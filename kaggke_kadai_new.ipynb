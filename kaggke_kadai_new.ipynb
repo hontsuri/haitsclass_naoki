{
 "cells": [
  {
   "cell_type": "code",
   "execution_count": 1,
   "metadata": {
    "collapsed": true
   },
   "outputs": [],
   "source": [
    "import pandas as pd\n",
    "import numpy as np\n",
    "import matplotlib.pyplot as plt\n",
    "% matplotlib inline"
   ]
  },
  {
   "cell_type": "code",
   "execution_count": 2,
   "metadata": {
    "collapsed": true
   },
   "outputs": [],
   "source": [
    "df_train = pd.read_csv('train.csv')\n",
    "df_test = pd.read_csv('test.csv')"
   ]
  },
  {
   "cell_type": "code",
   "execution_count": 3,
   "metadata": {},
   "outputs": [
    {
     "data": {
      "text/html": [
       "<div>\n",
       "<style>\n",
       "    .dataframe thead tr:only-child th {\n",
       "        text-align: right;\n",
       "    }\n",
       "\n",
       "    .dataframe thead th {\n",
       "        text-align: left;\n",
       "    }\n",
       "\n",
       "    .dataframe tbody tr th {\n",
       "        vertical-align: top;\n",
       "    }\n",
       "</style>\n",
       "<table border=\"1\" class=\"dataframe\">\n",
       "  <thead>\n",
       "    <tr style=\"text-align: right;\">\n",
       "      <th></th>\n",
       "      <th>1stFlrSF</th>\n",
       "      <th>2ndFlrSF</th>\n",
       "      <th>3SsnPorch</th>\n",
       "      <th>BedroomAbvGr</th>\n",
       "      <th>BsmtFinSF1</th>\n",
       "      <th>BsmtFinSF2</th>\n",
       "      <th>BsmtFullBath</th>\n",
       "      <th>BsmtHalfBath</th>\n",
       "      <th>BsmtUnfSF</th>\n",
       "      <th>EnclosedPorch</th>\n",
       "      <th>...</th>\n",
       "      <th>SaleType_ConLI</th>\n",
       "      <th>SaleType_ConLw</th>\n",
       "      <th>SaleType_New</th>\n",
       "      <th>SaleType_Oth</th>\n",
       "      <th>SaleType_WD</th>\n",
       "      <th>Street_Grvl</th>\n",
       "      <th>Street_Pave</th>\n",
       "      <th>Utilities_AllPub</th>\n",
       "      <th>Utilities_NoSeWa</th>\n",
       "      <th>SalePrice</th>\n",
       "    </tr>\n",
       "  </thead>\n",
       "  <tbody>\n",
       "    <tr>\n",
       "      <th>count</th>\n",
       "      <td>1460.000000</td>\n",
       "      <td>1460.000000</td>\n",
       "      <td>1460.000000</td>\n",
       "      <td>1460.000000</td>\n",
       "      <td>1460.000000</td>\n",
       "      <td>1460.000000</td>\n",
       "      <td>1460.000000</td>\n",
       "      <td>1460.000000</td>\n",
       "      <td>1460.000000</td>\n",
       "      <td>1460.000000</td>\n",
       "      <td>...</td>\n",
       "      <td>1460.000000</td>\n",
       "      <td>1460.000000</td>\n",
       "      <td>1460.000000</td>\n",
       "      <td>1460.000000</td>\n",
       "      <td>1460.000000</td>\n",
       "      <td>1460.000000</td>\n",
       "      <td>1460.000000</td>\n",
       "      <td>1460.000000</td>\n",
       "      <td>1460.000000</td>\n",
       "      <td>1460.000000</td>\n",
       "    </tr>\n",
       "    <tr>\n",
       "      <th>mean</th>\n",
       "      <td>1162.626712</td>\n",
       "      <td>346.992466</td>\n",
       "      <td>3.409589</td>\n",
       "      <td>2.866438</td>\n",
       "      <td>443.639726</td>\n",
       "      <td>46.549315</td>\n",
       "      <td>0.425342</td>\n",
       "      <td>0.057534</td>\n",
       "      <td>567.240411</td>\n",
       "      <td>21.954110</td>\n",
       "      <td>...</td>\n",
       "      <td>0.003425</td>\n",
       "      <td>0.003425</td>\n",
       "      <td>0.083562</td>\n",
       "      <td>0.002055</td>\n",
       "      <td>0.867808</td>\n",
       "      <td>0.004110</td>\n",
       "      <td>0.995890</td>\n",
       "      <td>0.999315</td>\n",
       "      <td>0.000685</td>\n",
       "      <td>180921.195890</td>\n",
       "    </tr>\n",
       "    <tr>\n",
       "      <th>std</th>\n",
       "      <td>386.587738</td>\n",
       "      <td>436.528436</td>\n",
       "      <td>29.317331</td>\n",
       "      <td>0.815778</td>\n",
       "      <td>456.098091</td>\n",
       "      <td>161.319273</td>\n",
       "      <td>0.518911</td>\n",
       "      <td>0.238753</td>\n",
       "      <td>441.866955</td>\n",
       "      <td>61.119149</td>\n",
       "      <td>...</td>\n",
       "      <td>0.058440</td>\n",
       "      <td>0.058440</td>\n",
       "      <td>0.276824</td>\n",
       "      <td>0.045299</td>\n",
       "      <td>0.338815</td>\n",
       "      <td>0.063996</td>\n",
       "      <td>0.063996</td>\n",
       "      <td>0.026171</td>\n",
       "      <td>0.026171</td>\n",
       "      <td>79442.502883</td>\n",
       "    </tr>\n",
       "    <tr>\n",
       "      <th>min</th>\n",
       "      <td>334.000000</td>\n",
       "      <td>0.000000</td>\n",
       "      <td>0.000000</td>\n",
       "      <td>0.000000</td>\n",
       "      <td>0.000000</td>\n",
       "      <td>0.000000</td>\n",
       "      <td>0.000000</td>\n",
       "      <td>0.000000</td>\n",
       "      <td>0.000000</td>\n",
       "      <td>0.000000</td>\n",
       "      <td>...</td>\n",
       "      <td>0.000000</td>\n",
       "      <td>0.000000</td>\n",
       "      <td>0.000000</td>\n",
       "      <td>0.000000</td>\n",
       "      <td>0.000000</td>\n",
       "      <td>0.000000</td>\n",
       "      <td>0.000000</td>\n",
       "      <td>0.000000</td>\n",
       "      <td>0.000000</td>\n",
       "      <td>34900.000000</td>\n",
       "    </tr>\n",
       "    <tr>\n",
       "      <th>25%</th>\n",
       "      <td>882.000000</td>\n",
       "      <td>0.000000</td>\n",
       "      <td>0.000000</td>\n",
       "      <td>2.000000</td>\n",
       "      <td>0.000000</td>\n",
       "      <td>0.000000</td>\n",
       "      <td>0.000000</td>\n",
       "      <td>0.000000</td>\n",
       "      <td>223.000000</td>\n",
       "      <td>0.000000</td>\n",
       "      <td>...</td>\n",
       "      <td>0.000000</td>\n",
       "      <td>0.000000</td>\n",
       "      <td>0.000000</td>\n",
       "      <td>0.000000</td>\n",
       "      <td>1.000000</td>\n",
       "      <td>0.000000</td>\n",
       "      <td>1.000000</td>\n",
       "      <td>1.000000</td>\n",
       "      <td>0.000000</td>\n",
       "      <td>129975.000000</td>\n",
       "    </tr>\n",
       "    <tr>\n",
       "      <th>50%</th>\n",
       "      <td>1087.000000</td>\n",
       "      <td>0.000000</td>\n",
       "      <td>0.000000</td>\n",
       "      <td>3.000000</td>\n",
       "      <td>383.500000</td>\n",
       "      <td>0.000000</td>\n",
       "      <td>0.000000</td>\n",
       "      <td>0.000000</td>\n",
       "      <td>477.500000</td>\n",
       "      <td>0.000000</td>\n",
       "      <td>...</td>\n",
       "      <td>0.000000</td>\n",
       "      <td>0.000000</td>\n",
       "      <td>0.000000</td>\n",
       "      <td>0.000000</td>\n",
       "      <td>1.000000</td>\n",
       "      <td>0.000000</td>\n",
       "      <td>1.000000</td>\n",
       "      <td>1.000000</td>\n",
       "      <td>0.000000</td>\n",
       "      <td>163000.000000</td>\n",
       "    </tr>\n",
       "    <tr>\n",
       "      <th>75%</th>\n",
       "      <td>1391.250000</td>\n",
       "      <td>728.000000</td>\n",
       "      <td>0.000000</td>\n",
       "      <td>3.000000</td>\n",
       "      <td>712.250000</td>\n",
       "      <td>0.000000</td>\n",
       "      <td>1.000000</td>\n",
       "      <td>0.000000</td>\n",
       "      <td>808.000000</td>\n",
       "      <td>0.000000</td>\n",
       "      <td>...</td>\n",
       "      <td>0.000000</td>\n",
       "      <td>0.000000</td>\n",
       "      <td>0.000000</td>\n",
       "      <td>0.000000</td>\n",
       "      <td>1.000000</td>\n",
       "      <td>0.000000</td>\n",
       "      <td>1.000000</td>\n",
       "      <td>1.000000</td>\n",
       "      <td>0.000000</td>\n",
       "      <td>214000.000000</td>\n",
       "    </tr>\n",
       "    <tr>\n",
       "      <th>max</th>\n",
       "      <td>4692.000000</td>\n",
       "      <td>2065.000000</td>\n",
       "      <td>508.000000</td>\n",
       "      <td>8.000000</td>\n",
       "      <td>5644.000000</td>\n",
       "      <td>1474.000000</td>\n",
       "      <td>3.000000</td>\n",
       "      <td>2.000000</td>\n",
       "      <td>2336.000000</td>\n",
       "      <td>552.000000</td>\n",
       "      <td>...</td>\n",
       "      <td>1.000000</td>\n",
       "      <td>1.000000</td>\n",
       "      <td>1.000000</td>\n",
       "      <td>1.000000</td>\n",
       "      <td>1.000000</td>\n",
       "      <td>1.000000</td>\n",
       "      <td>1.000000</td>\n",
       "      <td>1.000000</td>\n",
       "      <td>1.000000</td>\n",
       "      <td>755000.000000</td>\n",
       "    </tr>\n",
       "  </tbody>\n",
       "</table>\n",
       "<p>8 rows × 271 columns</p>\n",
       "</div>"
      ],
      "text/plain": [
       "          1stFlrSF     2ndFlrSF    3SsnPorch  BedroomAbvGr   BsmtFinSF1  \\\n",
       "count  1460.000000  1460.000000  1460.000000   1460.000000  1460.000000   \n",
       "mean   1162.626712   346.992466     3.409589      2.866438   443.639726   \n",
       "std     386.587738   436.528436    29.317331      0.815778   456.098091   \n",
       "min     334.000000     0.000000     0.000000      0.000000     0.000000   \n",
       "25%     882.000000     0.000000     0.000000      2.000000     0.000000   \n",
       "50%    1087.000000     0.000000     0.000000      3.000000   383.500000   \n",
       "75%    1391.250000   728.000000     0.000000      3.000000   712.250000   \n",
       "max    4692.000000  2065.000000   508.000000      8.000000  5644.000000   \n",
       "\n",
       "        BsmtFinSF2  BsmtFullBath  BsmtHalfBath    BsmtUnfSF  EnclosedPorch  \\\n",
       "count  1460.000000   1460.000000   1460.000000  1460.000000    1460.000000   \n",
       "mean     46.549315      0.425342      0.057534   567.240411      21.954110   \n",
       "std     161.319273      0.518911      0.238753   441.866955      61.119149   \n",
       "min       0.000000      0.000000      0.000000     0.000000       0.000000   \n",
       "25%       0.000000      0.000000      0.000000   223.000000       0.000000   \n",
       "50%       0.000000      0.000000      0.000000   477.500000       0.000000   \n",
       "75%       0.000000      1.000000      0.000000   808.000000       0.000000   \n",
       "max    1474.000000      3.000000      2.000000  2336.000000     552.000000   \n",
       "\n",
       "           ...        SaleType_ConLI  SaleType_ConLw  SaleType_New  \\\n",
       "count      ...           1460.000000     1460.000000   1460.000000   \n",
       "mean       ...              0.003425        0.003425      0.083562   \n",
       "std        ...              0.058440        0.058440      0.276824   \n",
       "min        ...              0.000000        0.000000      0.000000   \n",
       "25%        ...              0.000000        0.000000      0.000000   \n",
       "50%        ...              0.000000        0.000000      0.000000   \n",
       "75%        ...              0.000000        0.000000      0.000000   \n",
       "max        ...              1.000000        1.000000      1.000000   \n",
       "\n",
       "       SaleType_Oth  SaleType_WD  Street_Grvl  Street_Pave  Utilities_AllPub  \\\n",
       "count   1460.000000  1460.000000  1460.000000  1460.000000       1460.000000   \n",
       "mean       0.002055     0.867808     0.004110     0.995890          0.999315   \n",
       "std        0.045299     0.338815     0.063996     0.063996          0.026171   \n",
       "min        0.000000     0.000000     0.000000     0.000000          0.000000   \n",
       "25%        0.000000     1.000000     0.000000     1.000000          1.000000   \n",
       "50%        0.000000     1.000000     0.000000     1.000000          1.000000   \n",
       "75%        0.000000     1.000000     0.000000     1.000000          1.000000   \n",
       "max        1.000000     1.000000     1.000000     1.000000          1.000000   \n",
       "\n",
       "       Utilities_NoSeWa      SalePrice  \n",
       "count       1460.000000    1460.000000  \n",
       "mean           0.000685  180921.195890  \n",
       "std            0.026171   79442.502883  \n",
       "min            0.000000   34900.000000  \n",
       "25%            0.000000  129975.000000  \n",
       "50%            0.000000  163000.000000  \n",
       "75%            0.000000  214000.000000  \n",
       "max            1.000000  755000.000000  \n",
       "\n",
       "[8 rows x 271 columns]"
      ]
     },
     "execution_count": 3,
     "metadata": {},
     "output_type": "execute_result"
    }
   ],
   "source": [
    "df_train.describe()"
   ]
  },
  {
   "cell_type": "code",
   "execution_count": 6,
   "metadata": {},
   "outputs": [
    {
     "data": {
      "text/plain": [
       "Index(['1stFlrSF', '2ndFlrSF', '3SsnPorch', 'BedroomAbvGr', 'BsmtFinSF1',\n",
       "       'BsmtFinSF2', 'BsmtFullBath', 'BsmtHalfBath', 'BsmtUnfSF',\n",
       "       'EnclosedPorch',\n",
       "       ...\n",
       "       'SaleType_ConLI', 'SaleType_ConLw', 'SaleType_New', 'SaleType_Oth',\n",
       "       'SaleType_WD', 'Street_Grvl', 'Street_Pave', 'Utilities_AllPub',\n",
       "       'Utilities_NoSeWa', 'SalePrice'],\n",
       "      dtype='object', length=271)"
      ]
     },
     "execution_count": 6,
     "metadata": {},
     "output_type": "execute_result"
    }
   ],
   "source": [
    "columns = df_train.columns\n",
    "columns"
   ]
  },
  {
   "cell_type": "code",
   "execution_count": 7,
   "metadata": {},
   "outputs": [
    {
     "data": {
      "text/plain": [
       "Index(['1stFlrSF', '2ndFlrSF', '3SsnPorch', 'BedroomAbvGr', 'BsmtFinSF1',\n",
       "       'BsmtFinSF2', 'BsmtFullBath', 'BsmtHalfBath', 'BsmtUnfSF',\n",
       "       'EnclosedPorch',\n",
       "       ...\n",
       "       'SaleType_ConLD', 'SaleType_ConLI', 'SaleType_ConLw', 'SaleType_New',\n",
       "       'SaleType_Oth', 'SaleType_WD', 'Street_Grvl', 'Street_Pave',\n",
       "       'Utilities_AllPub', 'Utilities_NoSeWa'],\n",
       "      dtype='object', length=270)"
      ]
     },
     "execution_count": 7,
     "metadata": {},
     "output_type": "execute_result"
    }
   ],
   "source": [
    "columns2 = df_test.columns\n",
    "columns2"
   ]
  },
  {
   "cell_type": "code",
   "execution_count": 8,
   "metadata": {},
   "outputs": [
    {
     "data": {
      "text/html": [
       "<div>\n",
       "<style>\n",
       "    .dataframe thead tr:only-child th {\n",
       "        text-align: right;\n",
       "    }\n",
       "\n",
       "    .dataframe thead th {\n",
       "        text-align: left;\n",
       "    }\n",
       "\n",
       "    .dataframe tbody tr th {\n",
       "        vertical-align: top;\n",
       "    }\n",
       "</style>\n",
       "<table border=\"1\" class=\"dataframe\">\n",
       "  <thead>\n",
       "    <tr style=\"text-align: right;\">\n",
       "      <th></th>\n",
       "      <th>1stFlrSF</th>\n",
       "      <th>2ndFlrSF</th>\n",
       "      <th>3SsnPorch</th>\n",
       "      <th>BedroomAbvGr</th>\n",
       "      <th>BsmtFinSF1</th>\n",
       "      <th>BsmtFinSF2</th>\n",
       "      <th>BsmtFullBath</th>\n",
       "      <th>BsmtHalfBath</th>\n",
       "      <th>BsmtUnfSF</th>\n",
       "      <th>EnclosedPorch</th>\n",
       "      <th>...</th>\n",
       "      <th>SaleType_ConLI</th>\n",
       "      <th>SaleType_ConLw</th>\n",
       "      <th>SaleType_New</th>\n",
       "      <th>SaleType_Oth</th>\n",
       "      <th>SaleType_WD</th>\n",
       "      <th>Street_Grvl</th>\n",
       "      <th>Street_Pave</th>\n",
       "      <th>Utilities_AllPub</th>\n",
       "      <th>Utilities_NoSeWa</th>\n",
       "      <th>SalePrice</th>\n",
       "    </tr>\n",
       "  </thead>\n",
       "  <tbody>\n",
       "    <tr>\n",
       "      <th>0</th>\n",
       "      <td>856.0</td>\n",
       "      <td>854.0</td>\n",
       "      <td>0.0</td>\n",
       "      <td>3.0</td>\n",
       "      <td>706.0</td>\n",
       "      <td>0.0</td>\n",
       "      <td>1.0</td>\n",
       "      <td>0.0</td>\n",
       "      <td>150.0</td>\n",
       "      <td>0.0</td>\n",
       "      <td>...</td>\n",
       "      <td>0.0</td>\n",
       "      <td>0.0</td>\n",
       "      <td>0.0</td>\n",
       "      <td>0.0</td>\n",
       "      <td>1.0</td>\n",
       "      <td>0.0</td>\n",
       "      <td>1.0</td>\n",
       "      <td>1.0</td>\n",
       "      <td>0.0</td>\n",
       "      <td>208500</td>\n",
       "    </tr>\n",
       "    <tr>\n",
       "      <th>1</th>\n",
       "      <td>1262.0</td>\n",
       "      <td>0.0</td>\n",
       "      <td>0.0</td>\n",
       "      <td>3.0</td>\n",
       "      <td>978.0</td>\n",
       "      <td>0.0</td>\n",
       "      <td>0.0</td>\n",
       "      <td>1.0</td>\n",
       "      <td>284.0</td>\n",
       "      <td>0.0</td>\n",
       "      <td>...</td>\n",
       "      <td>0.0</td>\n",
       "      <td>0.0</td>\n",
       "      <td>0.0</td>\n",
       "      <td>0.0</td>\n",
       "      <td>1.0</td>\n",
       "      <td>0.0</td>\n",
       "      <td>1.0</td>\n",
       "      <td>1.0</td>\n",
       "      <td>0.0</td>\n",
       "      <td>181500</td>\n",
       "    </tr>\n",
       "    <tr>\n",
       "      <th>2</th>\n",
       "      <td>920.0</td>\n",
       "      <td>866.0</td>\n",
       "      <td>0.0</td>\n",
       "      <td>3.0</td>\n",
       "      <td>486.0</td>\n",
       "      <td>0.0</td>\n",
       "      <td>1.0</td>\n",
       "      <td>0.0</td>\n",
       "      <td>434.0</td>\n",
       "      <td>0.0</td>\n",
       "      <td>...</td>\n",
       "      <td>0.0</td>\n",
       "      <td>0.0</td>\n",
       "      <td>0.0</td>\n",
       "      <td>0.0</td>\n",
       "      <td>1.0</td>\n",
       "      <td>0.0</td>\n",
       "      <td>1.0</td>\n",
       "      <td>1.0</td>\n",
       "      <td>0.0</td>\n",
       "      <td>223500</td>\n",
       "    </tr>\n",
       "    <tr>\n",
       "      <th>3</th>\n",
       "      <td>961.0</td>\n",
       "      <td>756.0</td>\n",
       "      <td>0.0</td>\n",
       "      <td>3.0</td>\n",
       "      <td>216.0</td>\n",
       "      <td>0.0</td>\n",
       "      <td>1.0</td>\n",
       "      <td>0.0</td>\n",
       "      <td>540.0</td>\n",
       "      <td>272.0</td>\n",
       "      <td>...</td>\n",
       "      <td>0.0</td>\n",
       "      <td>0.0</td>\n",
       "      <td>0.0</td>\n",
       "      <td>0.0</td>\n",
       "      <td>1.0</td>\n",
       "      <td>0.0</td>\n",
       "      <td>1.0</td>\n",
       "      <td>1.0</td>\n",
       "      <td>0.0</td>\n",
       "      <td>140000</td>\n",
       "    </tr>\n",
       "    <tr>\n",
       "      <th>4</th>\n",
       "      <td>1145.0</td>\n",
       "      <td>1053.0</td>\n",
       "      <td>0.0</td>\n",
       "      <td>4.0</td>\n",
       "      <td>655.0</td>\n",
       "      <td>0.0</td>\n",
       "      <td>1.0</td>\n",
       "      <td>0.0</td>\n",
       "      <td>490.0</td>\n",
       "      <td>0.0</td>\n",
       "      <td>...</td>\n",
       "      <td>0.0</td>\n",
       "      <td>0.0</td>\n",
       "      <td>0.0</td>\n",
       "      <td>0.0</td>\n",
       "      <td>1.0</td>\n",
       "      <td>0.0</td>\n",
       "      <td>1.0</td>\n",
       "      <td>1.0</td>\n",
       "      <td>0.0</td>\n",
       "      <td>250000</td>\n",
       "    </tr>\n",
       "  </tbody>\n",
       "</table>\n",
       "<p>5 rows × 271 columns</p>\n",
       "</div>"
      ],
      "text/plain": [
       "   1stFlrSF  2ndFlrSF  3SsnPorch  BedroomAbvGr  BsmtFinSF1  BsmtFinSF2  \\\n",
       "0     856.0     854.0        0.0           3.0       706.0         0.0   \n",
       "1    1262.0       0.0        0.0           3.0       978.0         0.0   \n",
       "2     920.0     866.0        0.0           3.0       486.0         0.0   \n",
       "3     961.0     756.0        0.0           3.0       216.0         0.0   \n",
       "4    1145.0    1053.0        0.0           4.0       655.0         0.0   \n",
       "\n",
       "   BsmtFullBath  BsmtHalfBath  BsmtUnfSF  EnclosedPorch    ...      \\\n",
       "0           1.0           0.0      150.0            0.0    ...       \n",
       "1           0.0           1.0      284.0            0.0    ...       \n",
       "2           1.0           0.0      434.0            0.0    ...       \n",
       "3           1.0           0.0      540.0          272.0    ...       \n",
       "4           1.0           0.0      490.0            0.0    ...       \n",
       "\n",
       "   SaleType_ConLI  SaleType_ConLw  SaleType_New  SaleType_Oth  SaleType_WD  \\\n",
       "0             0.0             0.0           0.0           0.0          1.0   \n",
       "1             0.0             0.0           0.0           0.0          1.0   \n",
       "2             0.0             0.0           0.0           0.0          1.0   \n",
       "3             0.0             0.0           0.0           0.0          1.0   \n",
       "4             0.0             0.0           0.0           0.0          1.0   \n",
       "\n",
       "   Street_Grvl  Street_Pave  Utilities_AllPub  Utilities_NoSeWa  SalePrice  \n",
       "0          0.0          1.0               1.0               0.0     208500  \n",
       "1          0.0          1.0               1.0               0.0     181500  \n",
       "2          0.0          1.0               1.0               0.0     223500  \n",
       "3          0.0          1.0               1.0               0.0     140000  \n",
       "4          0.0          1.0               1.0               0.0     250000  \n",
       "\n",
       "[5 rows x 271 columns]"
      ]
     },
     "execution_count": 8,
     "metadata": {},
     "output_type": "execute_result"
    }
   ],
   "source": [
    "df_data = pd.DataFrame(df_train)\n",
    "df_data.head()"
   ]
  },
  {
   "cell_type": "code",
   "execution_count": 9,
   "metadata": {
    "scrolled": false
   },
   "outputs": [
    {
     "data": {
      "text/html": [
       "<div>\n",
       "<style>\n",
       "    .dataframe thead tr:only-child th {\n",
       "        text-align: right;\n",
       "    }\n",
       "\n",
       "    .dataframe thead th {\n",
       "        text-align: left;\n",
       "    }\n",
       "\n",
       "    .dataframe tbody tr th {\n",
       "        vertical-align: top;\n",
       "    }\n",
       "</style>\n",
       "<table border=\"1\" class=\"dataframe\">\n",
       "  <thead>\n",
       "    <tr style=\"text-align: right;\">\n",
       "      <th></th>\n",
       "      <th>1stFlrSF</th>\n",
       "      <th>2ndFlrSF</th>\n",
       "      <th>3SsnPorch</th>\n",
       "      <th>BedroomAbvGr</th>\n",
       "      <th>BsmtFinSF1</th>\n",
       "      <th>BsmtFinSF2</th>\n",
       "      <th>BsmtFullBath</th>\n",
       "      <th>BsmtHalfBath</th>\n",
       "      <th>BsmtUnfSF</th>\n",
       "      <th>EnclosedPorch</th>\n",
       "      <th>...</th>\n",
       "      <th>SaleType_ConLD</th>\n",
       "      <th>SaleType_ConLI</th>\n",
       "      <th>SaleType_ConLw</th>\n",
       "      <th>SaleType_New</th>\n",
       "      <th>SaleType_Oth</th>\n",
       "      <th>SaleType_WD</th>\n",
       "      <th>Street_Grvl</th>\n",
       "      <th>Street_Pave</th>\n",
       "      <th>Utilities_AllPub</th>\n",
       "      <th>Utilities_NoSeWa</th>\n",
       "    </tr>\n",
       "  </thead>\n",
       "  <tbody>\n",
       "    <tr>\n",
       "      <th>0</th>\n",
       "      <td>896.0</td>\n",
       "      <td>0.0</td>\n",
       "      <td>0.0</td>\n",
       "      <td>2.0</td>\n",
       "      <td>468.0</td>\n",
       "      <td>144.0</td>\n",
       "      <td>0.0</td>\n",
       "      <td>0.0</td>\n",
       "      <td>270.0</td>\n",
       "      <td>0.0</td>\n",
       "      <td>...</td>\n",
       "      <td>0.0</td>\n",
       "      <td>0.0</td>\n",
       "      <td>0.0</td>\n",
       "      <td>0.0</td>\n",
       "      <td>0.0</td>\n",
       "      <td>1.0</td>\n",
       "      <td>0.0</td>\n",
       "      <td>1.0</td>\n",
       "      <td>1.0</td>\n",
       "      <td>0.0</td>\n",
       "    </tr>\n",
       "    <tr>\n",
       "      <th>1</th>\n",
       "      <td>1329.0</td>\n",
       "      <td>0.0</td>\n",
       "      <td>0.0</td>\n",
       "      <td>3.0</td>\n",
       "      <td>923.0</td>\n",
       "      <td>0.0</td>\n",
       "      <td>0.0</td>\n",
       "      <td>0.0</td>\n",
       "      <td>406.0</td>\n",
       "      <td>0.0</td>\n",
       "      <td>...</td>\n",
       "      <td>0.0</td>\n",
       "      <td>0.0</td>\n",
       "      <td>0.0</td>\n",
       "      <td>0.0</td>\n",
       "      <td>0.0</td>\n",
       "      <td>1.0</td>\n",
       "      <td>0.0</td>\n",
       "      <td>1.0</td>\n",
       "      <td>1.0</td>\n",
       "      <td>0.0</td>\n",
       "    </tr>\n",
       "    <tr>\n",
       "      <th>2</th>\n",
       "      <td>928.0</td>\n",
       "      <td>701.0</td>\n",
       "      <td>0.0</td>\n",
       "      <td>3.0</td>\n",
       "      <td>791.0</td>\n",
       "      <td>0.0</td>\n",
       "      <td>0.0</td>\n",
       "      <td>0.0</td>\n",
       "      <td>137.0</td>\n",
       "      <td>0.0</td>\n",
       "      <td>...</td>\n",
       "      <td>0.0</td>\n",
       "      <td>0.0</td>\n",
       "      <td>0.0</td>\n",
       "      <td>0.0</td>\n",
       "      <td>0.0</td>\n",
       "      <td>1.0</td>\n",
       "      <td>0.0</td>\n",
       "      <td>1.0</td>\n",
       "      <td>1.0</td>\n",
       "      <td>0.0</td>\n",
       "    </tr>\n",
       "    <tr>\n",
       "      <th>3</th>\n",
       "      <td>926.0</td>\n",
       "      <td>678.0</td>\n",
       "      <td>0.0</td>\n",
       "      <td>3.0</td>\n",
       "      <td>602.0</td>\n",
       "      <td>0.0</td>\n",
       "      <td>0.0</td>\n",
       "      <td>0.0</td>\n",
       "      <td>324.0</td>\n",
       "      <td>0.0</td>\n",
       "      <td>...</td>\n",
       "      <td>0.0</td>\n",
       "      <td>0.0</td>\n",
       "      <td>0.0</td>\n",
       "      <td>0.0</td>\n",
       "      <td>0.0</td>\n",
       "      <td>1.0</td>\n",
       "      <td>0.0</td>\n",
       "      <td>1.0</td>\n",
       "      <td>1.0</td>\n",
       "      <td>0.0</td>\n",
       "    </tr>\n",
       "    <tr>\n",
       "      <th>4</th>\n",
       "      <td>1280.0</td>\n",
       "      <td>0.0</td>\n",
       "      <td>0.0</td>\n",
       "      <td>2.0</td>\n",
       "      <td>263.0</td>\n",
       "      <td>0.0</td>\n",
       "      <td>0.0</td>\n",
       "      <td>0.0</td>\n",
       "      <td>1017.0</td>\n",
       "      <td>0.0</td>\n",
       "      <td>...</td>\n",
       "      <td>0.0</td>\n",
       "      <td>0.0</td>\n",
       "      <td>0.0</td>\n",
       "      <td>0.0</td>\n",
       "      <td>0.0</td>\n",
       "      <td>1.0</td>\n",
       "      <td>0.0</td>\n",
       "      <td>1.0</td>\n",
       "      <td>1.0</td>\n",
       "      <td>0.0</td>\n",
       "    </tr>\n",
       "  </tbody>\n",
       "</table>\n",
       "<p>5 rows × 270 columns</p>\n",
       "</div>"
      ],
      "text/plain": [
       "   1stFlrSF  2ndFlrSF  3SsnPorch  BedroomAbvGr  BsmtFinSF1  BsmtFinSF2  \\\n",
       "0     896.0       0.0        0.0           2.0       468.0       144.0   \n",
       "1    1329.0       0.0        0.0           3.0       923.0         0.0   \n",
       "2     928.0     701.0        0.0           3.0       791.0         0.0   \n",
       "3     926.0     678.0        0.0           3.0       602.0         0.0   \n",
       "4    1280.0       0.0        0.0           2.0       263.0         0.0   \n",
       "\n",
       "   BsmtFullBath  BsmtHalfBath  BsmtUnfSF  EnclosedPorch        ...         \\\n",
       "0           0.0           0.0      270.0            0.0        ...          \n",
       "1           0.0           0.0      406.0            0.0        ...          \n",
       "2           0.0           0.0      137.0            0.0        ...          \n",
       "3           0.0           0.0      324.0            0.0        ...          \n",
       "4           0.0           0.0     1017.0            0.0        ...          \n",
       "\n",
       "   SaleType_ConLD  SaleType_ConLI  SaleType_ConLw  SaleType_New  SaleType_Oth  \\\n",
       "0             0.0             0.0             0.0           0.0           0.0   \n",
       "1             0.0             0.0             0.0           0.0           0.0   \n",
       "2             0.0             0.0             0.0           0.0           0.0   \n",
       "3             0.0             0.0             0.0           0.0           0.0   \n",
       "4             0.0             0.0             0.0           0.0           0.0   \n",
       "\n",
       "   SaleType_WD  Street_Grvl  Street_Pave  Utilities_AllPub  Utilities_NoSeWa  \n",
       "0          1.0          0.0          1.0               1.0               0.0  \n",
       "1          1.0          0.0          1.0               1.0               0.0  \n",
       "2          1.0          0.0          1.0               1.0               0.0  \n",
       "3          1.0          0.0          1.0               1.0               0.0  \n",
       "4          1.0          0.0          1.0               1.0               0.0  \n",
       "\n",
       "[5 rows x 270 columns]"
      ]
     },
     "execution_count": 9,
     "metadata": {},
     "output_type": "execute_result"
    }
   ],
   "source": [
    "df_data2 = pd.DataFrame(df_test)\n",
    "df_data2.head()"
   ]
  },
  {
   "cell_type": "code",
   "execution_count": 10,
   "metadata": {
    "collapsed": true
   },
   "outputs": [],
   "source": [
    "from sklearn.preprocessing import StandardScaler\n",
    "scaler = StandardScaler()\n",
    "scaler.fit(df_train)\n",
    "X_std = scaler.fit_transform(df_train)"
   ]
  },
  {
   "cell_type": "code",
   "execution_count": 11,
   "metadata": {
    "collapsed": true
   },
   "outputs": [],
   "source": [
    "from sklearn.preprocessing import StandardScaler\n",
    "scaler = StandardScaler()\n",
    "scaler.fit(df_test)\n",
    "X_std2 = scaler.fit_transform(df_test)"
   ]
  },
  {
   "cell_type": "code",
   "execution_count": 12,
   "metadata": {
    "collapsed": true
   },
   "outputs": [],
   "source": [
    "from sklearn.decomposition import PCA\n",
    "pca = PCA(n_components=270)\n",
    "X_pca = pca.fit_transform(X_std)"
   ]
  },
  {
   "cell_type": "code",
   "execution_count": 13,
   "metadata": {
    "collapsed": true
   },
   "outputs": [],
   "source": [
    "from sklearn.decomposition import PCA\n",
    "pca2 = PCA(n_components=270)\n",
    "X_pca2 = pca2.fit_transform(X_std2)"
   ]
  },
  {
   "cell_type": "code",
   "execution_count": 14,
   "metadata": {},
   "outputs": [
    {
     "data": {
      "text/plain": [
       "array([[  4.28385913e+00,   1.63681990e+00,  -2.26989034e+00, ...,\n",
       "         -9.99291812e-16,   3.25722214e-16,  -1.34185473e-16],\n",
       "       [ -1.80694854e-01,  -3.13389524e+00,  -6.29286513e-01, ...,\n",
       "          2.04152965e-16,  -2.65516449e-16,  -1.82461036e-17],\n",
       "       [  4.83440899e+00,   1.13387155e+00,  -1.65141689e+00, ...,\n",
       "         -5.32015266e-16,  -1.00501794e-16,   2.84449514e-16],\n",
       "       ..., \n",
       "       [  1.55209043e+00,  -3.19888164e+00,   1.27449798e+00, ...,\n",
       "          4.85747872e-16,  -4.15357298e-17,   3.49741664e-16],\n",
       "       [ -6.29161048e+00,   3.92997363e+00,   3.66795989e+00, ...,\n",
       "          7.19503066e-16,   3.43831481e-16,  -2.18862123e-16],\n",
       "       [ -4.85872467e+00,   1.80953659e+00,   9.66717509e-01, ...,\n",
       "         -4.39590467e-17,  -8.71083626e-17,  -1.16900465e-16]])"
      ]
     },
     "execution_count": 14,
     "metadata": {},
     "output_type": "execute_result"
    }
   ],
   "source": [
    "X_pca[:10]"
   ]
  },
  {
   "cell_type": "code",
   "execution_count": 15,
   "metadata": {},
   "outputs": [
    {
     "data": {
      "text/plain": [
       "array([[ -3.23563129e+00,  -3.11126575e+00,  -1.51369582e+00, ...,\n",
       "         -4.17944937e-16,  -6.02371102e-17,   8.86761390e-17],\n",
       "       [ -7.94053749e-01,  -4.39773926e+00,   1.36451022e+00, ...,\n",
       "         -8.92451840e-17,  -5.63164693e-17,   2.00347603e-17],\n",
       "       [  2.29298980e+00,   1.01748112e+00,  -2.40276116e+00, ...,\n",
       "         -2.09972779e-17,  -6.02708526e-17,  -2.78825739e-17],\n",
       "       ..., \n",
       "       [  1.69436900e+00,   2.20392838e+00,  -2.77275836e+00, ...,\n",
       "         -2.51874366e-16,  -8.51980265e-17,   6.26117149e-17],\n",
       "       [  1.56595247e+00,  -1.61707390e+00,  -1.53775308e+00, ...,\n",
       "         -5.87943465e-17,   2.46886015e-16,  -5.62732249e-17],\n",
       "       [ -2.44385037e+00,  -4.88969504e+00,  -1.74827426e+00, ...,\n",
       "          1.78313252e-16,  -9.31018934e-17,   7.32244854e-17]])"
      ]
     },
     "execution_count": 15,
     "metadata": {},
     "output_type": "execute_result"
    }
   ],
   "source": [
    "X_pca2[:10]"
   ]
  },
  {
   "cell_type": "code",
   "execution_count": 16,
   "metadata": {},
   "outputs": [
    {
     "name": "stdout",
     "output_type": "stream",
     "text": [
      "[ 0.06835444  0.09823163  0.12314569  0.14285809  0.16066594  0.17739635\n",
      "  0.1924226   0.20515777  0.2176808   0.2295095   0.24102338  0.25198544\n",
      "  0.26262079  0.27305424  0.28322216  0.29321941  0.30293941  0.31225715\n",
      "  0.32141424  0.33037645  0.33925992  0.3478713   0.35638644  0.36465686\n",
      "  0.37278852  0.38086418  0.38888801  0.39678188  0.40457466  0.41234537\n",
      "  0.41999696  0.42752568  0.43480232  0.44202263  0.4491867   0.4561567\n",
      "  0.46307326  0.46989628  0.47661218  0.4832572   0.4898148   0.49630043\n",
      "  0.50267881  0.50891263  0.5151289   0.52130282  0.52735301  0.5333159\n",
      "  0.53917505  0.54498618  0.55072359  0.55634268  0.56194487  0.56746459\n",
      "  0.57293856  0.57834973  0.58375683  0.58905438  0.59428073  0.599471\n",
      "  0.60459376  0.60966846  0.61471883  0.61966956  0.62459401  0.62942749\n",
      "  0.63421749  0.63895914  0.64368148  0.64838612  0.65302373  0.65763962\n",
      "  0.66221667  0.66673258  0.67120731  0.67566283  0.6800671   0.68445302\n",
      "  0.68872495  0.69298962  0.69722516  0.70145227  0.70563376  0.70975242\n",
      "  0.71383333  0.71789849  0.7218963   0.72585684  0.72981011  0.73373149\n",
      "  0.73762372  0.74147969  0.74531408  0.74912609  0.75292063  0.75666521\n",
      "  0.76038792  0.7640508   0.76768692  0.771314    0.77492808  0.77844886\n",
      "  0.78194063  0.78541123  0.78883608  0.79224068  0.79562909  0.79897339\n",
      "  0.80229841  0.80559921  0.80885274  0.81205259  0.81521342  0.81835694\n",
      "  0.82147263  0.82455123  0.82760125  0.83063109  0.83359558  0.83654357\n",
      "  0.83948537  0.84239861  0.84529651  0.84816839  0.85099095  0.85379037\n",
      "  0.85654507  0.85929063  0.86199445  0.86468007  0.86733081  0.86996812\n",
      "  0.87257014  0.87514936  0.87770954  0.88022429  0.88271793  0.88518171\n",
      "  0.88764134  0.89005455  0.8924411   0.89480282  0.89712345  0.89943774\n",
      "  0.90172657  0.90398138  0.90621359  0.90842595  0.91061705  0.91274245\n",
      "  0.91484741  0.91693566  0.91901269  0.92107718  0.92308788  0.92507767\n",
      "  0.92703385  0.92897535  0.93090435  0.93278762  0.93462769  0.93645025\n",
      "  0.93823622  0.9400093   0.94175315  0.94347751  0.94516851  0.94683295\n",
      "  0.94847622  0.95009537  0.95170036  0.9532949   0.95486289  0.95639369\n",
      "  0.95791263  0.95940729  0.96086078  0.96229516  0.96372104  0.96511956\n",
      "  0.96650063  0.96787478  0.9691794   0.97044705  0.97169776  0.97293261\n",
      "  0.97412018  0.9752786   0.97640329  0.97752408  0.97861183  0.97968407\n",
      "  0.98071423  0.98172478  0.982694    0.98362862  0.98453051  0.98540085\n",
      "  0.98624852  0.98708576  0.98789186  0.98866213  0.98943008  0.99014895\n",
      "  0.99084301  0.9914628   0.99207382  0.99265812  0.99323162  0.99378735\n",
      "  0.9943261   0.9948576   0.99532686  0.99577658  0.99619848  0.99658664\n",
      "  0.99696978  0.99735112  0.99768215  0.99798914  0.99828931  0.99854662\n",
      "  0.99879532  0.99902639  0.99922796  0.99940366  0.99956018  0.99968321\n",
      "  0.99975817  0.99982445  0.99988941  0.99994291  0.99997528  0.99998941\n",
      "  0.9999964   1.          1.          1.          1.          1.          1.\n",
      "  1.          1.          1.          1.          1.          1.          1.\n",
      "  1.          1.          1.          1.          1.          1.          1.\n",
      "  1.          1.          1.          1.          1.          1.          1.\n",
      "  1.          1.          1.          1.          1.          1.          1.\n",
      "  1.        ]\n"
     ]
    }
   ],
   "source": [
    "print(np.cumsum(pca.explained_variance_ratio_))"
   ]
  },
  {
   "cell_type": "code",
   "execution_count": 17,
   "metadata": {
    "scrolled": true
   },
   "outputs": [
    {
     "data": {
      "text/plain": [
       "array([ 0.06835444,  0.09823163,  0.12314569,  0.14285809,  0.16066594,\n",
       "        0.17739635,  0.1924226 ,  0.20515777,  0.2176808 ,  0.2295095 ,\n",
       "        0.24102338,  0.25198544,  0.26262079,  0.27305424,  0.28322216,\n",
       "        0.29321941,  0.30293941,  0.31225715,  0.32141424,  0.33037645,\n",
       "        0.33925992,  0.3478713 ,  0.35638644,  0.36465686,  0.37278852,\n",
       "        0.38086418,  0.38888801,  0.39678188,  0.40457466,  0.41234537,\n",
       "        0.41999696,  0.42752568,  0.43480232,  0.44202263,  0.4491867 ,\n",
       "        0.4561567 ,  0.46307326,  0.46989628,  0.47661218,  0.4832572 ,\n",
       "        0.4898148 ,  0.49630043,  0.50267881,  0.50891263,  0.5151289 ,\n",
       "        0.52130282,  0.52735301,  0.5333159 ,  0.53917505,  0.54498618,\n",
       "        0.55072359,  0.55634268,  0.56194487,  0.56746459,  0.57293856,\n",
       "        0.57834973,  0.58375683,  0.58905438,  0.59428073,  0.599471  ,\n",
       "        0.60459376,  0.60966846,  0.61471883,  0.61966956,  0.62459401,\n",
       "        0.62942749,  0.63421749,  0.63895914,  0.64368148,  0.64838612,\n",
       "        0.65302373,  0.65763962,  0.66221667,  0.66673258,  0.67120731,\n",
       "        0.67566283,  0.6800671 ,  0.68445302,  0.68872495,  0.69298962,\n",
       "        0.69722516,  0.70145227,  0.70563376,  0.70975242,  0.71383333,\n",
       "        0.71789849,  0.7218963 ,  0.72585684,  0.72981011,  0.73373149,\n",
       "        0.73762372,  0.74147969,  0.74531408,  0.74912609,  0.75292063,\n",
       "        0.75666521,  0.76038792,  0.7640508 ,  0.76768692,  0.771314  ,\n",
       "        0.77492808,  0.77844886,  0.78194063,  0.78541123,  0.78883608,\n",
       "        0.79224068,  0.79562909,  0.79897339,  0.80229841,  0.80559921,\n",
       "        0.80885274,  0.81205259,  0.81521342,  0.81835694,  0.82147263,\n",
       "        0.82455123,  0.82760125,  0.83063109,  0.83359558,  0.83654357,\n",
       "        0.83948537,  0.84239861,  0.84529651,  0.84816839,  0.85099095,\n",
       "        0.85379037,  0.85654507,  0.85929063,  0.86199445,  0.86468007,\n",
       "        0.86733081,  0.86996812,  0.87257014,  0.87514936,  0.87770954,\n",
       "        0.88022429,  0.88271793,  0.88518171,  0.88764134,  0.89005455,\n",
       "        0.8924411 ,  0.89480282,  0.89712345,  0.89943774,  0.90172657,\n",
       "        0.90398138,  0.90621359,  0.90842595,  0.91061705,  0.91274245,\n",
       "        0.91484741,  0.91693566,  0.91901269,  0.92107718,  0.92308788,\n",
       "        0.92507767,  0.92703385,  0.92897535,  0.93090435,  0.93278762,\n",
       "        0.93462769,  0.93645025,  0.93823622,  0.9400093 ,  0.94175315,\n",
       "        0.94347751,  0.94516851,  0.94683295,  0.94847622,  0.95009537,\n",
       "        0.95170036,  0.9532949 ,  0.95486289,  0.95639369,  0.95791263,\n",
       "        0.95940729,  0.96086078,  0.96229516,  0.96372104,  0.96511956,\n",
       "        0.96650063,  0.96787478,  0.9691794 ,  0.97044705,  0.97169776,\n",
       "        0.97293261,  0.97412018,  0.9752786 ,  0.97640329,  0.97752408,\n",
       "        0.97861183,  0.97968407,  0.98071423,  0.98172478,  0.982694  ,\n",
       "        0.98362862,  0.98453051,  0.98540085,  0.98624852,  0.98708576,\n",
       "        0.98789186,  0.98866213,  0.98943008,  0.99014895,  0.99084301,\n",
       "        0.9914628 ,  0.99207382,  0.99265812,  0.99323162,  0.99378735,\n",
       "        0.9943261 ,  0.9948576 ,  0.99532686,  0.99577658,  0.99619848,\n",
       "        0.99658664,  0.99696978,  0.99735112,  0.99768215,  0.99798914,\n",
       "        0.99828931,  0.99854662,  0.99879532,  0.99902639,  0.99922796,\n",
       "        0.99940366,  0.99956018,  0.99968321,  0.99975817,  0.99982445,\n",
       "        0.99988941,  0.99994291,  0.99997528,  0.99998941,  0.9999964 ,\n",
       "        1.        ,  1.        ,  1.        ,  1.        ,  1.        ,\n",
       "        1.        ,  1.        ,  1.        ,  1.        ,  1.        ,\n",
       "        1.        ,  1.        ,  1.        ,  1.        ,  1.        ,\n",
       "        1.        ,  1.        ,  1.        ,  1.        ,  1.        ,\n",
       "        1.        ,  1.        ,  1.        ,  1.        ,  1.        ,\n",
       "        1.        ,  1.        ,  1.        ,  1.        ,  1.        ,\n",
       "        1.        ,  1.        ,  1.        ,  1.        ,  1.        ])"
      ]
     },
     "execution_count": 17,
     "metadata": {},
     "output_type": "execute_result"
    }
   ],
   "source": [
    "ratio = np.cumsum(pca.explained_variance_ratio_)\n",
    "ratio"
   ]
  },
  {
   "cell_type": "code",
   "execution_count": 18,
   "metadata": {},
   "outputs": [
    {
     "name": "stdout",
     "output_type": "stream",
     "text": [
      "108\n"
     ]
    }
   ],
   "source": [
    "count = 0\n",
    "for i in range(len(ratio)):\n",
    "    if ratio[i] < 0.8:\n",
    "        count += 1\n",
    "    else:\n",
    "        print(count)\n",
    "        break"
   ]
  },
  {
   "cell_type": "code",
   "execution_count": 19,
   "metadata": {
    "collapsed": true
   },
   "outputs": [],
   "source": [
    "X_pca = X_pca[:, :108]"
   ]
  },
  {
   "cell_type": "code",
   "execution_count": 56,
   "metadata": {
    "collapsed": true
   },
   "outputs": [],
   "source": [
    "X_pca2 = X_pca2[:, :108]"
   ]
  },
  {
   "cell_type": "code",
   "execution_count": 23,
   "metadata": {
    "collapsed": true
   },
   "outputs": [],
   "source": [
    "y = df_train.loc[:, ['SalePrice']].values"
   ]
  },
  {
   "cell_type": "code",
   "execution_count": null,
   "metadata": {
    "collapsed": true
   },
   "outputs": [],
   "source": []
  },
  {
   "cell_type": "code",
   "execution_count": 25,
   "metadata": {
    "collapsed": true
   },
   "outputs": [],
   "source": [
    "from sklearn.linear_model import LinearRegression\n",
    "lr = LinearRegression()"
   ]
  },
  {
   "cell_type": "code",
   "execution_count": 164,
   "metadata": {
    "collapsed": true
   },
   "outputs": [],
   "source": [
    "from sklearn.model_selection import train_test_split\n",
    "X_pca_train, X_pca_test, y_train, y_test = train_test_split(X_pca, y, test_size = 0.3, random_state = 0)"
   ]
  },
  {
   "cell_type": "code",
   "execution_count": 165,
   "metadata": {
    "scrolled": true
   },
   "outputs": [
    {
     "data": {
      "text/plain": [
       "LinearRegression(copy_X=True, fit_intercept=True, n_jobs=1, normalize=False)"
      ]
     },
     "execution_count": 165,
     "metadata": {},
     "output_type": "execute_result"
    }
   ],
   "source": [
    "lr.fit(X_pca_train, y_train)"
   ]
  },
  {
   "cell_type": "code",
   "execution_count": 166,
   "metadata": {},
   "outputs": [
    {
     "data": {
      "text/plain": [
       "array([ 180902.07104763])"
      ]
     },
     "execution_count": 166,
     "metadata": {},
     "output_type": "execute_result"
    }
   ],
   "source": [
    "lr.intercept_"
   ]
  },
  {
   "cell_type": "code",
   "execution_count": 167,
   "metadata": {},
   "outputs": [
    {
     "data": {
      "text/plain": [
       "array([[  1.51604329e+04,  -8.62652496e+02,   1.33319514e+04,\n",
       "         -2.29167906e+03,  -2.80046135e+03,   4.33598978e+03,\n",
       "         -3.50148711e+03,  -4.20076579e+03,  -2.85921585e+03,\n",
       "         -1.21601843e+03,  -2.06811778e+03,  -1.05953117e+02,\n",
       "          4.24598620e+02,   1.29003849e+02,   1.59219477e+03,\n",
       "         -1.67171812e+03,   2.02190874e+03,   2.89440431e+03,\n",
       "          2.55433000e+01,  -5.92938653e+02,  -6.14952408e+02,\n",
       "          2.07110026e+03,  -7.68495692e+02,  -5.08922846e+02,\n",
       "          1.11872124e+03,  -1.13371572e+03,   2.35105657e+03,\n",
       "         -2.27424482e+03,  -3.33030488e+03,   2.24434970e+02,\n",
       "          2.23865123e+03,   4.88412256e+02,  -1.66663913e+03,\n",
       "         -2.40586004e+03,   2.19045212e+03,  -3.17750500e+01,\n",
       "          9.05155392e+02,  -2.10066511e+03,   1.64134635e+03,\n",
       "          3.34101045e+03,   7.99052126e+02,   1.45492370e+01,\n",
       "          2.02399108e+03,  -2.12709752e+02,   7.57663739e+02,\n",
       "         -4.16121998e+02,  -2.20160986e+02,   1.06328450e+03,\n",
       "         -4.10584235e+02,  -3.49089394e+03,   2.15580748e+03,\n",
       "          2.10515189e+03,  -4.40720124e+03,  -7.18055372e+02,\n",
       "          9.96286317e+02,  -6.85358179e+02,   3.42685658e+02,\n",
       "          1.04417127e+03,  -1.34952571e+03,  -3.74020562e+03,\n",
       "          1.31875914e+03,   1.22233971e+02,  -3.34810516e+03,\n",
       "         -1.63359055e+03,  -1.06865419e+03,  -9.82583436e+02,\n",
       "         -2.56216401e+03,   3.07461023e+03,   3.83138614e+02,\n",
       "         -2.31752587e+02,  -1.79620021e+03,  -4.30472159e+02,\n",
       "         -2.29987516e+03,  -1.97018259e+03,   8.35616209e+02,\n",
       "          3.75715459e+03,  -1.23964556e+03,  -8.37677301e+02,\n",
       "         -2.06887511e+02,  -4.37262296e+03,   1.24599324e+02,\n",
       "          2.11130998e+03,   2.93872463e+03,  -3.64121143e+02,\n",
       "         -1.31980925e+03,  -1.43510466e+03,   1.89705176e+03,\n",
       "         -3.11973524e+03,  -3.90889532e+03,   4.26691384e+03,\n",
       "          2.56174963e+03,   4.86306032e+02,  -4.26219099e+02,\n",
       "          3.27342913e+02,   3.54016174e+02,   1.77912900e+03,\n",
       "         -4.39759972e+03,   2.03215087e+03,  -1.52945004e+03,\n",
       "          2.34993159e+03,   7.87793429e+02,   4.81028447e+01,\n",
       "         -1.46062793e+03,  -2.67168993e+03,  -1.43688258e+03,\n",
       "          2.55642767e+03,  -6.97812537e+02,   2.08704657e+03]])"
      ]
     },
     "execution_count": 167,
     "metadata": {},
     "output_type": "execute_result"
    }
   ],
   "source": [
    "lr.coef_"
   ]
  },
  {
   "cell_type": "code",
   "execution_count": 183,
   "metadata": {},
   "outputs": [
    {
     "data": {
      "text/plain": [
       "Lasso(alpha=2350, copy_X=True, fit_intercept=True, max_iter=1000,\n",
       "   normalize=False, positive=False, precompute=False, random_state=None,\n",
       "   selection='cyclic', tol=0.0001, warm_start=False)"
      ]
     },
     "execution_count": 183,
     "metadata": {},
     "output_type": "execute_result"
    }
   ],
   "source": [
    "from sklearn.linear_model import Lasso\n",
    "model_lasso = Lasso(alpha=2350)\n",
    "model_lasso.fit(X_pca_train, y_train)"
   ]
  },
  {
   "cell_type": "code",
   "execution_count": 184,
   "metadata": {
    "scrolled": false
   },
   "outputs": [
    {
     "name": "stdout",
     "output_type": "stream",
     "text": [
      "R^2\n",
      "train: 0.891\n",
      "test : 0.784\n"
     ]
    }
   ],
   "source": [
    "print('R^2')\n",
    "print('train: %.3f' % model_lasso.score(X_pca_train, y_train))\n",
    "print('test : %.3f' % model_lasso.score(X_pca_test, y_test))"
   ]
  },
  {
   "cell_type": "code",
   "execution_count": 185,
   "metadata": {
    "scrolled": true
   },
   "outputs": [
    {
     "data": {
      "text/plain": [
       "array([  1.48218460e+04,  -4.27686204e+02,   1.25920003e+04,\n",
       "        -1.70353549e+03,  -2.50860069e+03,   3.66234713e+03,\n",
       "        -2.91894559e+03,  -3.41305874e+03,  -2.32219844e+03,\n",
       "        -4.01523379e+02,  -8.41612877e+02,   0.00000000e+00,\n",
       "         0.00000000e+00,  -0.00000000e+00,   2.24770998e+02,\n",
       "        -2.06606518e+02,   4.16566157e+02,   6.69015664e+02,\n",
       "        -0.00000000e+00,   0.00000000e+00,  -0.00000000e+00,\n",
       "         6.06790568e+02,  -5.61347552e+01,  -1.70601479e+02,\n",
       "         4.09754360e+02,  -0.00000000e+00,   6.24150162e+02,\n",
       "        -1.09944658e+03,  -2.05107452e+03,   0.00000000e+00,\n",
       "         1.84506590e+01,   5.15995517e+02,  -0.00000000e+00,\n",
       "        -1.23123591e+03,   4.35456381e+02,  -0.00000000e+00,\n",
       "         0.00000000e+00,  -2.36445531e+01,   0.00000000e+00,\n",
       "         1.15181279e+03,   0.00000000e+00,   0.00000000e+00,\n",
       "         4.40876951e+02,  -0.00000000e+00,   0.00000000e+00,\n",
       "        -0.00000000e+00,   0.00000000e+00,   0.00000000e+00,\n",
       "        -0.00000000e+00,  -2.39517023e+03,   1.19871547e+02,\n",
       "         0.00000000e+00,  -1.27976633e+03,  -0.00000000e+00,\n",
       "        -0.00000000e+00,  -4.72726791e+01,  -0.00000000e+00,\n",
       "         0.00000000e+00,  -0.00000000e+00,  -1.15463659e+03,\n",
       "        -0.00000000e+00,   0.00000000e+00,  -4.88042745e+01,\n",
       "        -0.00000000e+00,  -0.00000000e+00,  -0.00000000e+00,\n",
       "        -9.45452166e+02,   3.42715667e+01,   0.00000000e+00,\n",
       "        -0.00000000e+00,  -7.74999125e+02,  -0.00000000e+00,\n",
       "        -7.10778234e+02,  -0.00000000e+00,   0.00000000e+00,\n",
       "         8.19228271e+02,  -0.00000000e+00,  -0.00000000e+00,\n",
       "        -0.00000000e+00,  -9.89559454e+02,   0.00000000e+00,\n",
       "         0.00000000e+00,   0.00000000e+00,  -0.00000000e+00,\n",
       "        -0.00000000e+00,  -0.00000000e+00,   0.00000000e+00,\n",
       "        -3.29543872e+02,  -5.47541532e+02,   1.58837317e+03,\n",
       "         7.49056684e-01,  -0.00000000e+00,  -0.00000000e+00,\n",
       "         0.00000000e+00,   0.00000000e+00,   0.00000000e+00,\n",
       "        -2.29961346e+03,   1.71861944e+02,  -0.00000000e+00,\n",
       "         0.00000000e+00,   0.00000000e+00,  -0.00000000e+00,\n",
       "        -1.49498945e+02,  -2.20151643e+01,  -0.00000000e+00,\n",
       "         0.00000000e+00,  -0.00000000e+00,   0.00000000e+00])"
      ]
     },
     "execution_count": 185,
     "metadata": {},
     "output_type": "execute_result"
    }
   ],
   "source": [
    "model_lasso.coef_"
   ]
  },
  {
   "cell_type": "code",
   "execution_count": 186,
   "metadata": {},
   "outputs": [
    {
     "data": {
      "text/plain": [
       "(1459, 108)"
      ]
     },
     "execution_count": 186,
     "metadata": {},
     "output_type": "execute_result"
    }
   ],
   "source": [
    "X_pca2.shape"
   ]
  },
  {
   "cell_type": "code",
   "execution_count": 187,
   "metadata": {
    "collapsed": true
   },
   "outputs": [],
   "source": [
    "y_pred = model_lasso.predict(X_pca2)"
   ]
  },
  {
   "cell_type": "code",
   "execution_count": 188,
   "metadata": {},
   "outputs": [
    {
     "data": {
      "text/plain": [
       "array([ 117751.78906644,  177514.90515552,  188290.91617833,\n",
       "        208862.95405428,  199975.73104258,  175347.46488596,\n",
       "        187328.95741547,  173942.33089977,  198485.57727917,\n",
       "        130621.96613419])"
      ]
     },
     "execution_count": 188,
     "metadata": {},
     "output_type": "execute_result"
    }
   ],
   "source": [
    "y_pred[:10]"
   ]
  },
  {
   "cell_type": "code",
   "execution_count": 189,
   "metadata": {},
   "outputs": [
    {
     "data": {
      "text/html": [
       "<div>\n",
       "<style>\n",
       "    .dataframe thead tr:only-child th {\n",
       "        text-align: right;\n",
       "    }\n",
       "\n",
       "    .dataframe thead th {\n",
       "        text-align: left;\n",
       "    }\n",
       "\n",
       "    .dataframe tbody tr th {\n",
       "        vertical-align: top;\n",
       "    }\n",
       "</style>\n",
       "<table border=\"1\" class=\"dataframe\">\n",
       "  <thead>\n",
       "    <tr style=\"text-align: right;\">\n",
       "      <th></th>\n",
       "      <th>Id</th>\n",
       "      <th>SalePrice</th>\n",
       "    </tr>\n",
       "  </thead>\n",
       "  <tbody>\n",
       "    <tr>\n",
       "      <th>0</th>\n",
       "      <td>1461</td>\n",
       "      <td>117751.789066</td>\n",
       "    </tr>\n",
       "    <tr>\n",
       "      <th>1</th>\n",
       "      <td>1462</td>\n",
       "      <td>177514.905156</td>\n",
       "    </tr>\n",
       "    <tr>\n",
       "      <th>2</th>\n",
       "      <td>1463</td>\n",
       "      <td>188290.916178</td>\n",
       "    </tr>\n",
       "    <tr>\n",
       "      <th>3</th>\n",
       "      <td>1464</td>\n",
       "      <td>208862.954054</td>\n",
       "    </tr>\n",
       "    <tr>\n",
       "      <th>4</th>\n",
       "      <td>1465</td>\n",
       "      <td>199975.731043</td>\n",
       "    </tr>\n",
       "  </tbody>\n",
       "</table>\n",
       "</div>"
      ],
      "text/plain": [
       "     Id      SalePrice\n",
       "0  1461  117751.789066\n",
       "1  1462  177514.905156\n",
       "2  1463  188290.916178\n",
       "3  1464  208862.954054\n",
       "4  1465  199975.731043"
      ]
     },
     "execution_count": 189,
     "metadata": {},
     "output_type": "execute_result"
    }
   ],
   "source": [
    "kaggle_df_test = pd.DataFrame({\"Id\":np.arange(1461, 2920), \"SalePrice\":y_pred})\n",
    "kaggle_df_test.head()"
   ]
  },
  {
   "cell_type": "code",
   "execution_count": 190,
   "metadata": {
    "collapsed": true
   },
   "outputs": [],
   "source": [
    "kaggle_df_test.to_csv(\"housepriceC.csv\", index=False)"
   ]
  },
  {
   "cell_type": "code",
   "execution_count": null,
   "metadata": {
    "collapsed": true
   },
   "outputs": [],
   "source": []
  },
  {
   "cell_type": "code",
   "execution_count": null,
   "metadata": {
    "collapsed": true
   },
   "outputs": [],
   "source": []
  },
  {
   "cell_type": "code",
   "execution_count": null,
   "metadata": {
    "collapsed": true
   },
   "outputs": [],
   "source": []
  },
  {
   "cell_type": "code",
   "execution_count": null,
   "metadata": {
    "collapsed": true
   },
   "outputs": [],
   "source": []
  },
  {
   "cell_type": "code",
   "execution_count": null,
   "metadata": {
    "collapsed": true
   },
   "outputs": [],
   "source": []
  },
  {
   "cell_type": "code",
   "execution_count": null,
   "metadata": {
    "collapsed": true
   },
   "outputs": [],
   "source": []
  }
 ],
 "metadata": {
  "kernelspec": {
   "display_name": "Python 3",
   "language": "python",
   "name": "python3"
  },
  "language_info": {
   "codemirror_mode": {
    "name": "ipython",
    "version": 3
   },
   "file_extension": ".py",
   "mimetype": "text/x-python",
   "name": "python",
   "nbconvert_exporter": "python",
   "pygments_lexer": "ipython3",
   "version": "3.6.2"
  }
 },
 "nbformat": 4,
 "nbformat_minor": 2
}
