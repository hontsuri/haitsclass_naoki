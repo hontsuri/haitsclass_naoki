{
 "cells": [
  {
   "cell_type": "code",
   "execution_count": 1,
   "metadata": {
    "collapsed": true
   },
   "outputs": [],
   "source": [
    "import pandas as pd\n",
    "import numpy as np\n",
    "import matplotlib.pyplot as plt\n",
    "% matplotlib inline"
   ]
  },
  {
   "cell_type": "code",
   "execution_count": 2,
   "metadata": {
    "collapsed": true
   },
   "outputs": [],
   "source": [
    "df_train = pd.read_csv('train.csv')\n",
    "df_test = pd.read_csv('test.csv')"
   ]
  },
  {
   "cell_type": "code",
   "execution_count": 3,
   "metadata": {},
   "outputs": [
    {
     "data": {
      "text/html": [
       "<div>\n",
       "<style>\n",
       "    .dataframe thead tr:only-child th {\n",
       "        text-align: right;\n",
       "    }\n",
       "\n",
       "    .dataframe thead th {\n",
       "        text-align: left;\n",
       "    }\n",
       "\n",
       "    .dataframe tbody tr th {\n",
       "        vertical-align: top;\n",
       "    }\n",
       "</style>\n",
       "<table border=\"1\" class=\"dataframe\">\n",
       "  <thead>\n",
       "    <tr style=\"text-align: right;\">\n",
       "      <th></th>\n",
       "      <th>1stFlrSF</th>\n",
       "      <th>2ndFlrSF</th>\n",
       "      <th>3SsnPorch</th>\n",
       "      <th>BedroomAbvGr</th>\n",
       "      <th>BsmtFinSF1</th>\n",
       "      <th>BsmtFinSF2</th>\n",
       "      <th>BsmtFullBath</th>\n",
       "      <th>BsmtHalfBath</th>\n",
       "      <th>BsmtUnfSF</th>\n",
       "      <th>EnclosedPorch</th>\n",
       "      <th>...</th>\n",
       "      <th>SaleType_ConLI</th>\n",
       "      <th>SaleType_ConLw</th>\n",
       "      <th>SaleType_New</th>\n",
       "      <th>SaleType_Oth</th>\n",
       "      <th>SaleType_WD</th>\n",
       "      <th>Street_Grvl</th>\n",
       "      <th>Street_Pave</th>\n",
       "      <th>Utilities_AllPub</th>\n",
       "      <th>Utilities_NoSeWa</th>\n",
       "      <th>SalePrice</th>\n",
       "    </tr>\n",
       "  </thead>\n",
       "  <tbody>\n",
       "    <tr>\n",
       "      <th>count</th>\n",
       "      <td>1460.000000</td>\n",
       "      <td>1460.000000</td>\n",
       "      <td>1460.000000</td>\n",
       "      <td>1460.000000</td>\n",
       "      <td>1460.000000</td>\n",
       "      <td>1460.000000</td>\n",
       "      <td>1460.000000</td>\n",
       "      <td>1460.000000</td>\n",
       "      <td>1460.000000</td>\n",
       "      <td>1460.000000</td>\n",
       "      <td>...</td>\n",
       "      <td>1460.000000</td>\n",
       "      <td>1460.000000</td>\n",
       "      <td>1460.000000</td>\n",
       "      <td>1460.000000</td>\n",
       "      <td>1460.000000</td>\n",
       "      <td>1460.000000</td>\n",
       "      <td>1460.000000</td>\n",
       "      <td>1460.000000</td>\n",
       "      <td>1460.000000</td>\n",
       "      <td>1460.000000</td>\n",
       "    </tr>\n",
       "    <tr>\n",
       "      <th>mean</th>\n",
       "      <td>1162.626712</td>\n",
       "      <td>346.992466</td>\n",
       "      <td>3.409589</td>\n",
       "      <td>2.866438</td>\n",
       "      <td>443.639726</td>\n",
       "      <td>46.549315</td>\n",
       "      <td>0.425342</td>\n",
       "      <td>0.057534</td>\n",
       "      <td>567.240411</td>\n",
       "      <td>21.954110</td>\n",
       "      <td>...</td>\n",
       "      <td>0.003425</td>\n",
       "      <td>0.003425</td>\n",
       "      <td>0.083562</td>\n",
       "      <td>0.002055</td>\n",
       "      <td>0.867808</td>\n",
       "      <td>0.004110</td>\n",
       "      <td>0.995890</td>\n",
       "      <td>0.999315</td>\n",
       "      <td>0.000685</td>\n",
       "      <td>180921.195890</td>\n",
       "    </tr>\n",
       "    <tr>\n",
       "      <th>std</th>\n",
       "      <td>386.587738</td>\n",
       "      <td>436.528436</td>\n",
       "      <td>29.317331</td>\n",
       "      <td>0.815778</td>\n",
       "      <td>456.098091</td>\n",
       "      <td>161.319273</td>\n",
       "      <td>0.518911</td>\n",
       "      <td>0.238753</td>\n",
       "      <td>441.866955</td>\n",
       "      <td>61.119149</td>\n",
       "      <td>...</td>\n",
       "      <td>0.058440</td>\n",
       "      <td>0.058440</td>\n",
       "      <td>0.276824</td>\n",
       "      <td>0.045299</td>\n",
       "      <td>0.338815</td>\n",
       "      <td>0.063996</td>\n",
       "      <td>0.063996</td>\n",
       "      <td>0.026171</td>\n",
       "      <td>0.026171</td>\n",
       "      <td>79442.502883</td>\n",
       "    </tr>\n",
       "    <tr>\n",
       "      <th>min</th>\n",
       "      <td>334.000000</td>\n",
       "      <td>0.000000</td>\n",
       "      <td>0.000000</td>\n",
       "      <td>0.000000</td>\n",
       "      <td>0.000000</td>\n",
       "      <td>0.000000</td>\n",
       "      <td>0.000000</td>\n",
       "      <td>0.000000</td>\n",
       "      <td>0.000000</td>\n",
       "      <td>0.000000</td>\n",
       "      <td>...</td>\n",
       "      <td>0.000000</td>\n",
       "      <td>0.000000</td>\n",
       "      <td>0.000000</td>\n",
       "      <td>0.000000</td>\n",
       "      <td>0.000000</td>\n",
       "      <td>0.000000</td>\n",
       "      <td>0.000000</td>\n",
       "      <td>0.000000</td>\n",
       "      <td>0.000000</td>\n",
       "      <td>34900.000000</td>\n",
       "    </tr>\n",
       "    <tr>\n",
       "      <th>25%</th>\n",
       "      <td>882.000000</td>\n",
       "      <td>0.000000</td>\n",
       "      <td>0.000000</td>\n",
       "      <td>2.000000</td>\n",
       "      <td>0.000000</td>\n",
       "      <td>0.000000</td>\n",
       "      <td>0.000000</td>\n",
       "      <td>0.000000</td>\n",
       "      <td>223.000000</td>\n",
       "      <td>0.000000</td>\n",
       "      <td>...</td>\n",
       "      <td>0.000000</td>\n",
       "      <td>0.000000</td>\n",
       "      <td>0.000000</td>\n",
       "      <td>0.000000</td>\n",
       "      <td>1.000000</td>\n",
       "      <td>0.000000</td>\n",
       "      <td>1.000000</td>\n",
       "      <td>1.000000</td>\n",
       "      <td>0.000000</td>\n",
       "      <td>129975.000000</td>\n",
       "    </tr>\n",
       "    <tr>\n",
       "      <th>50%</th>\n",
       "      <td>1087.000000</td>\n",
       "      <td>0.000000</td>\n",
       "      <td>0.000000</td>\n",
       "      <td>3.000000</td>\n",
       "      <td>383.500000</td>\n",
       "      <td>0.000000</td>\n",
       "      <td>0.000000</td>\n",
       "      <td>0.000000</td>\n",
       "      <td>477.500000</td>\n",
       "      <td>0.000000</td>\n",
       "      <td>...</td>\n",
       "      <td>0.000000</td>\n",
       "      <td>0.000000</td>\n",
       "      <td>0.000000</td>\n",
       "      <td>0.000000</td>\n",
       "      <td>1.000000</td>\n",
       "      <td>0.000000</td>\n",
       "      <td>1.000000</td>\n",
       "      <td>1.000000</td>\n",
       "      <td>0.000000</td>\n",
       "      <td>163000.000000</td>\n",
       "    </tr>\n",
       "    <tr>\n",
       "      <th>75%</th>\n",
       "      <td>1391.250000</td>\n",
       "      <td>728.000000</td>\n",
       "      <td>0.000000</td>\n",
       "      <td>3.000000</td>\n",
       "      <td>712.250000</td>\n",
       "      <td>0.000000</td>\n",
       "      <td>1.000000</td>\n",
       "      <td>0.000000</td>\n",
       "      <td>808.000000</td>\n",
       "      <td>0.000000</td>\n",
       "      <td>...</td>\n",
       "      <td>0.000000</td>\n",
       "      <td>0.000000</td>\n",
       "      <td>0.000000</td>\n",
       "      <td>0.000000</td>\n",
       "      <td>1.000000</td>\n",
       "      <td>0.000000</td>\n",
       "      <td>1.000000</td>\n",
       "      <td>1.000000</td>\n",
       "      <td>0.000000</td>\n",
       "      <td>214000.000000</td>\n",
       "    </tr>\n",
       "    <tr>\n",
       "      <th>max</th>\n",
       "      <td>4692.000000</td>\n",
       "      <td>2065.000000</td>\n",
       "      <td>508.000000</td>\n",
       "      <td>8.000000</td>\n",
       "      <td>5644.000000</td>\n",
       "      <td>1474.000000</td>\n",
       "      <td>3.000000</td>\n",
       "      <td>2.000000</td>\n",
       "      <td>2336.000000</td>\n",
       "      <td>552.000000</td>\n",
       "      <td>...</td>\n",
       "      <td>1.000000</td>\n",
       "      <td>1.000000</td>\n",
       "      <td>1.000000</td>\n",
       "      <td>1.000000</td>\n",
       "      <td>1.000000</td>\n",
       "      <td>1.000000</td>\n",
       "      <td>1.000000</td>\n",
       "      <td>1.000000</td>\n",
       "      <td>1.000000</td>\n",
       "      <td>755000.000000</td>\n",
       "    </tr>\n",
       "  </tbody>\n",
       "</table>\n",
       "<p>8 rows × 271 columns</p>\n",
       "</div>"
      ],
      "text/plain": [
       "          1stFlrSF     2ndFlrSF    3SsnPorch  BedroomAbvGr   BsmtFinSF1  \\\n",
       "count  1460.000000  1460.000000  1460.000000   1460.000000  1460.000000   \n",
       "mean   1162.626712   346.992466     3.409589      2.866438   443.639726   \n",
       "std     386.587738   436.528436    29.317331      0.815778   456.098091   \n",
       "min     334.000000     0.000000     0.000000      0.000000     0.000000   \n",
       "25%     882.000000     0.000000     0.000000      2.000000     0.000000   \n",
       "50%    1087.000000     0.000000     0.000000      3.000000   383.500000   \n",
       "75%    1391.250000   728.000000     0.000000      3.000000   712.250000   \n",
       "max    4692.000000  2065.000000   508.000000      8.000000  5644.000000   \n",
       "\n",
       "        BsmtFinSF2  BsmtFullBath  BsmtHalfBath    BsmtUnfSF  EnclosedPorch  \\\n",
       "count  1460.000000   1460.000000   1460.000000  1460.000000    1460.000000   \n",
       "mean     46.549315      0.425342      0.057534   567.240411      21.954110   \n",
       "std     161.319273      0.518911      0.238753   441.866955      61.119149   \n",
       "min       0.000000      0.000000      0.000000     0.000000       0.000000   \n",
       "25%       0.000000      0.000000      0.000000   223.000000       0.000000   \n",
       "50%       0.000000      0.000000      0.000000   477.500000       0.000000   \n",
       "75%       0.000000      1.000000      0.000000   808.000000       0.000000   \n",
       "max    1474.000000      3.000000      2.000000  2336.000000     552.000000   \n",
       "\n",
       "           ...        SaleType_ConLI  SaleType_ConLw  SaleType_New  \\\n",
       "count      ...           1460.000000     1460.000000   1460.000000   \n",
       "mean       ...              0.003425        0.003425      0.083562   \n",
       "std        ...              0.058440        0.058440      0.276824   \n",
       "min        ...              0.000000        0.000000      0.000000   \n",
       "25%        ...              0.000000        0.000000      0.000000   \n",
       "50%        ...              0.000000        0.000000      0.000000   \n",
       "75%        ...              0.000000        0.000000      0.000000   \n",
       "max        ...              1.000000        1.000000      1.000000   \n",
       "\n",
       "       SaleType_Oth  SaleType_WD  Street_Grvl  Street_Pave  Utilities_AllPub  \\\n",
       "count   1460.000000  1460.000000  1460.000000  1460.000000       1460.000000   \n",
       "mean       0.002055     0.867808     0.004110     0.995890          0.999315   \n",
       "std        0.045299     0.338815     0.063996     0.063996          0.026171   \n",
       "min        0.000000     0.000000     0.000000     0.000000          0.000000   \n",
       "25%        0.000000     1.000000     0.000000     1.000000          1.000000   \n",
       "50%        0.000000     1.000000     0.000000     1.000000          1.000000   \n",
       "75%        0.000000     1.000000     0.000000     1.000000          1.000000   \n",
       "max        1.000000     1.000000     1.000000     1.000000          1.000000   \n",
       "\n",
       "       Utilities_NoSeWa      SalePrice  \n",
       "count       1460.000000    1460.000000  \n",
       "mean           0.000685  180921.195890  \n",
       "std            0.026171   79442.502883  \n",
       "min            0.000000   34900.000000  \n",
       "25%            0.000000  129975.000000  \n",
       "50%            0.000000  163000.000000  \n",
       "75%            0.000000  214000.000000  \n",
       "max            1.000000  755000.000000  \n",
       "\n",
       "[8 rows x 271 columns]"
      ]
     },
     "execution_count": 3,
     "metadata": {},
     "output_type": "execute_result"
    }
   ],
   "source": [
    "df_train.describe()"
   ]
  },
  {
   "cell_type": "code",
   "execution_count": 4,
   "metadata": {},
   "outputs": [
    {
     "data": {
      "text/plain": [
       "Index(['1stFlrSF', '2ndFlrSF', '3SsnPorch', 'BedroomAbvGr', 'BsmtFinSF1',\n",
       "       'BsmtFinSF2', 'BsmtFullBath', 'BsmtHalfBath', 'BsmtUnfSF',\n",
       "       'EnclosedPorch',\n",
       "       ...\n",
       "       'SaleType_ConLI', 'SaleType_ConLw', 'SaleType_New', 'SaleType_Oth',\n",
       "       'SaleType_WD', 'Street_Grvl', 'Street_Pave', 'Utilities_AllPub',\n",
       "       'Utilities_NoSeWa', 'SalePrice'],\n",
       "      dtype='object', length=271)"
      ]
     },
     "execution_count": 4,
     "metadata": {},
     "output_type": "execute_result"
    }
   ],
   "source": [
    "columns = df_train.columns\n",
    "columns"
   ]
  },
  {
   "cell_type": "code",
   "execution_count": 5,
   "metadata": {},
   "outputs": [
    {
     "data": {
      "text/plain": [
       "Index(['1stFlrSF', '2ndFlrSF', '3SsnPorch', 'BedroomAbvGr', 'BsmtFinSF1',\n",
       "       'BsmtFinSF2', 'BsmtFullBath', 'BsmtHalfBath', 'BsmtUnfSF',\n",
       "       'EnclosedPorch',\n",
       "       ...\n",
       "       'SaleType_ConLD', 'SaleType_ConLI', 'SaleType_ConLw', 'SaleType_New',\n",
       "       'SaleType_Oth', 'SaleType_WD', 'Street_Grvl', 'Street_Pave',\n",
       "       'Utilities_AllPub', 'Utilities_NoSeWa'],\n",
       "      dtype='object', length=270)"
      ]
     },
     "execution_count": 5,
     "metadata": {},
     "output_type": "execute_result"
    }
   ],
   "source": [
    "columns2 = df_test.columns\n",
    "columns2"
   ]
  },
  {
   "cell_type": "code",
   "execution_count": 6,
   "metadata": {},
   "outputs": [
    {
     "data": {
      "text/html": [
       "<div>\n",
       "<style>\n",
       "    .dataframe thead tr:only-child th {\n",
       "        text-align: right;\n",
       "    }\n",
       "\n",
       "    .dataframe thead th {\n",
       "        text-align: left;\n",
       "    }\n",
       "\n",
       "    .dataframe tbody tr th {\n",
       "        vertical-align: top;\n",
       "    }\n",
       "</style>\n",
       "<table border=\"1\" class=\"dataframe\">\n",
       "  <thead>\n",
       "    <tr style=\"text-align: right;\">\n",
       "      <th></th>\n",
       "      <th>1stFlrSF</th>\n",
       "      <th>2ndFlrSF</th>\n",
       "      <th>3SsnPorch</th>\n",
       "      <th>BedroomAbvGr</th>\n",
       "      <th>BsmtFinSF1</th>\n",
       "      <th>BsmtFinSF2</th>\n",
       "      <th>BsmtFullBath</th>\n",
       "      <th>BsmtHalfBath</th>\n",
       "      <th>BsmtUnfSF</th>\n",
       "      <th>EnclosedPorch</th>\n",
       "      <th>...</th>\n",
       "      <th>SaleType_ConLI</th>\n",
       "      <th>SaleType_ConLw</th>\n",
       "      <th>SaleType_New</th>\n",
       "      <th>SaleType_Oth</th>\n",
       "      <th>SaleType_WD</th>\n",
       "      <th>Street_Grvl</th>\n",
       "      <th>Street_Pave</th>\n",
       "      <th>Utilities_AllPub</th>\n",
       "      <th>Utilities_NoSeWa</th>\n",
       "      <th>SalePrice</th>\n",
       "    </tr>\n",
       "  </thead>\n",
       "  <tbody>\n",
       "    <tr>\n",
       "      <th>0</th>\n",
       "      <td>856.0</td>\n",
       "      <td>854.0</td>\n",
       "      <td>0.0</td>\n",
       "      <td>3.0</td>\n",
       "      <td>706.0</td>\n",
       "      <td>0.0</td>\n",
       "      <td>1.0</td>\n",
       "      <td>0.0</td>\n",
       "      <td>150.0</td>\n",
       "      <td>0.0</td>\n",
       "      <td>...</td>\n",
       "      <td>0.0</td>\n",
       "      <td>0.0</td>\n",
       "      <td>0.0</td>\n",
       "      <td>0.0</td>\n",
       "      <td>1.0</td>\n",
       "      <td>0.0</td>\n",
       "      <td>1.0</td>\n",
       "      <td>1.0</td>\n",
       "      <td>0.0</td>\n",
       "      <td>208500</td>\n",
       "    </tr>\n",
       "    <tr>\n",
       "      <th>1</th>\n",
       "      <td>1262.0</td>\n",
       "      <td>0.0</td>\n",
       "      <td>0.0</td>\n",
       "      <td>3.0</td>\n",
       "      <td>978.0</td>\n",
       "      <td>0.0</td>\n",
       "      <td>0.0</td>\n",
       "      <td>1.0</td>\n",
       "      <td>284.0</td>\n",
       "      <td>0.0</td>\n",
       "      <td>...</td>\n",
       "      <td>0.0</td>\n",
       "      <td>0.0</td>\n",
       "      <td>0.0</td>\n",
       "      <td>0.0</td>\n",
       "      <td>1.0</td>\n",
       "      <td>0.0</td>\n",
       "      <td>1.0</td>\n",
       "      <td>1.0</td>\n",
       "      <td>0.0</td>\n",
       "      <td>181500</td>\n",
       "    </tr>\n",
       "    <tr>\n",
       "      <th>2</th>\n",
       "      <td>920.0</td>\n",
       "      <td>866.0</td>\n",
       "      <td>0.0</td>\n",
       "      <td>3.0</td>\n",
       "      <td>486.0</td>\n",
       "      <td>0.0</td>\n",
       "      <td>1.0</td>\n",
       "      <td>0.0</td>\n",
       "      <td>434.0</td>\n",
       "      <td>0.0</td>\n",
       "      <td>...</td>\n",
       "      <td>0.0</td>\n",
       "      <td>0.0</td>\n",
       "      <td>0.0</td>\n",
       "      <td>0.0</td>\n",
       "      <td>1.0</td>\n",
       "      <td>0.0</td>\n",
       "      <td>1.0</td>\n",
       "      <td>1.0</td>\n",
       "      <td>0.0</td>\n",
       "      <td>223500</td>\n",
       "    </tr>\n",
       "    <tr>\n",
       "      <th>3</th>\n",
       "      <td>961.0</td>\n",
       "      <td>756.0</td>\n",
       "      <td>0.0</td>\n",
       "      <td>3.0</td>\n",
       "      <td>216.0</td>\n",
       "      <td>0.0</td>\n",
       "      <td>1.0</td>\n",
       "      <td>0.0</td>\n",
       "      <td>540.0</td>\n",
       "      <td>272.0</td>\n",
       "      <td>...</td>\n",
       "      <td>0.0</td>\n",
       "      <td>0.0</td>\n",
       "      <td>0.0</td>\n",
       "      <td>0.0</td>\n",
       "      <td>1.0</td>\n",
       "      <td>0.0</td>\n",
       "      <td>1.0</td>\n",
       "      <td>1.0</td>\n",
       "      <td>0.0</td>\n",
       "      <td>140000</td>\n",
       "    </tr>\n",
       "    <tr>\n",
       "      <th>4</th>\n",
       "      <td>1145.0</td>\n",
       "      <td>1053.0</td>\n",
       "      <td>0.0</td>\n",
       "      <td>4.0</td>\n",
       "      <td>655.0</td>\n",
       "      <td>0.0</td>\n",
       "      <td>1.0</td>\n",
       "      <td>0.0</td>\n",
       "      <td>490.0</td>\n",
       "      <td>0.0</td>\n",
       "      <td>...</td>\n",
       "      <td>0.0</td>\n",
       "      <td>0.0</td>\n",
       "      <td>0.0</td>\n",
       "      <td>0.0</td>\n",
       "      <td>1.0</td>\n",
       "      <td>0.0</td>\n",
       "      <td>1.0</td>\n",
       "      <td>1.0</td>\n",
       "      <td>0.0</td>\n",
       "      <td>250000</td>\n",
       "    </tr>\n",
       "  </tbody>\n",
       "</table>\n",
       "<p>5 rows × 271 columns</p>\n",
       "</div>"
      ],
      "text/plain": [
       "   1stFlrSF  2ndFlrSF  3SsnPorch  BedroomAbvGr  BsmtFinSF1  BsmtFinSF2  \\\n",
       "0     856.0     854.0        0.0           3.0       706.0         0.0   \n",
       "1    1262.0       0.0        0.0           3.0       978.0         0.0   \n",
       "2     920.0     866.0        0.0           3.0       486.0         0.0   \n",
       "3     961.0     756.0        0.0           3.0       216.0         0.0   \n",
       "4    1145.0    1053.0        0.0           4.0       655.0         0.0   \n",
       "\n",
       "   BsmtFullBath  BsmtHalfBath  BsmtUnfSF  EnclosedPorch    ...      \\\n",
       "0           1.0           0.0      150.0            0.0    ...       \n",
       "1           0.0           1.0      284.0            0.0    ...       \n",
       "2           1.0           0.0      434.0            0.0    ...       \n",
       "3           1.0           0.0      540.0          272.0    ...       \n",
       "4           1.0           0.0      490.0            0.0    ...       \n",
       "\n",
       "   SaleType_ConLI  SaleType_ConLw  SaleType_New  SaleType_Oth  SaleType_WD  \\\n",
       "0             0.0             0.0           0.0           0.0          1.0   \n",
       "1             0.0             0.0           0.0           0.0          1.0   \n",
       "2             0.0             0.0           0.0           0.0          1.0   \n",
       "3             0.0             0.0           0.0           0.0          1.0   \n",
       "4             0.0             0.0           0.0           0.0          1.0   \n",
       "\n",
       "   Street_Grvl  Street_Pave  Utilities_AllPub  Utilities_NoSeWa  SalePrice  \n",
       "0          0.0          1.0               1.0               0.0     208500  \n",
       "1          0.0          1.0               1.0               0.0     181500  \n",
       "2          0.0          1.0               1.0               0.0     223500  \n",
       "3          0.0          1.0               1.0               0.0     140000  \n",
       "4          0.0          1.0               1.0               0.0     250000  \n",
       "\n",
       "[5 rows x 271 columns]"
      ]
     },
     "execution_count": 6,
     "metadata": {},
     "output_type": "execute_result"
    }
   ],
   "source": [
    "df_data = pd.DataFrame(df_train)\n",
    "df_data.head()"
   ]
  },
  {
   "cell_type": "code",
   "execution_count": 7,
   "metadata": {
    "scrolled": false
   },
   "outputs": [
    {
     "data": {
      "text/html": [
       "<div>\n",
       "<style>\n",
       "    .dataframe thead tr:only-child th {\n",
       "        text-align: right;\n",
       "    }\n",
       "\n",
       "    .dataframe thead th {\n",
       "        text-align: left;\n",
       "    }\n",
       "\n",
       "    .dataframe tbody tr th {\n",
       "        vertical-align: top;\n",
       "    }\n",
       "</style>\n",
       "<table border=\"1\" class=\"dataframe\">\n",
       "  <thead>\n",
       "    <tr style=\"text-align: right;\">\n",
       "      <th></th>\n",
       "      <th>1stFlrSF</th>\n",
       "      <th>2ndFlrSF</th>\n",
       "      <th>3SsnPorch</th>\n",
       "      <th>BedroomAbvGr</th>\n",
       "      <th>BsmtFinSF1</th>\n",
       "      <th>BsmtFinSF2</th>\n",
       "      <th>BsmtFullBath</th>\n",
       "      <th>BsmtHalfBath</th>\n",
       "      <th>BsmtUnfSF</th>\n",
       "      <th>EnclosedPorch</th>\n",
       "      <th>...</th>\n",
       "      <th>SaleType_ConLD</th>\n",
       "      <th>SaleType_ConLI</th>\n",
       "      <th>SaleType_ConLw</th>\n",
       "      <th>SaleType_New</th>\n",
       "      <th>SaleType_Oth</th>\n",
       "      <th>SaleType_WD</th>\n",
       "      <th>Street_Grvl</th>\n",
       "      <th>Street_Pave</th>\n",
       "      <th>Utilities_AllPub</th>\n",
       "      <th>Utilities_NoSeWa</th>\n",
       "    </tr>\n",
       "  </thead>\n",
       "  <tbody>\n",
       "    <tr>\n",
       "      <th>0</th>\n",
       "      <td>896.0</td>\n",
       "      <td>0.0</td>\n",
       "      <td>0.0</td>\n",
       "      <td>2.0</td>\n",
       "      <td>468.0</td>\n",
       "      <td>144.0</td>\n",
       "      <td>0.0</td>\n",
       "      <td>0.0</td>\n",
       "      <td>270.0</td>\n",
       "      <td>0.0</td>\n",
       "      <td>...</td>\n",
       "      <td>0.0</td>\n",
       "      <td>0.0</td>\n",
       "      <td>0.0</td>\n",
       "      <td>0.0</td>\n",
       "      <td>0.0</td>\n",
       "      <td>1.0</td>\n",
       "      <td>0.0</td>\n",
       "      <td>1.0</td>\n",
       "      <td>1.0</td>\n",
       "      <td>0.0</td>\n",
       "    </tr>\n",
       "    <tr>\n",
       "      <th>1</th>\n",
       "      <td>1329.0</td>\n",
       "      <td>0.0</td>\n",
       "      <td>0.0</td>\n",
       "      <td>3.0</td>\n",
       "      <td>923.0</td>\n",
       "      <td>0.0</td>\n",
       "      <td>0.0</td>\n",
       "      <td>0.0</td>\n",
       "      <td>406.0</td>\n",
       "      <td>0.0</td>\n",
       "      <td>...</td>\n",
       "      <td>0.0</td>\n",
       "      <td>0.0</td>\n",
       "      <td>0.0</td>\n",
       "      <td>0.0</td>\n",
       "      <td>0.0</td>\n",
       "      <td>1.0</td>\n",
       "      <td>0.0</td>\n",
       "      <td>1.0</td>\n",
       "      <td>1.0</td>\n",
       "      <td>0.0</td>\n",
       "    </tr>\n",
       "    <tr>\n",
       "      <th>2</th>\n",
       "      <td>928.0</td>\n",
       "      <td>701.0</td>\n",
       "      <td>0.0</td>\n",
       "      <td>3.0</td>\n",
       "      <td>791.0</td>\n",
       "      <td>0.0</td>\n",
       "      <td>0.0</td>\n",
       "      <td>0.0</td>\n",
       "      <td>137.0</td>\n",
       "      <td>0.0</td>\n",
       "      <td>...</td>\n",
       "      <td>0.0</td>\n",
       "      <td>0.0</td>\n",
       "      <td>0.0</td>\n",
       "      <td>0.0</td>\n",
       "      <td>0.0</td>\n",
       "      <td>1.0</td>\n",
       "      <td>0.0</td>\n",
       "      <td>1.0</td>\n",
       "      <td>1.0</td>\n",
       "      <td>0.0</td>\n",
       "    </tr>\n",
       "    <tr>\n",
       "      <th>3</th>\n",
       "      <td>926.0</td>\n",
       "      <td>678.0</td>\n",
       "      <td>0.0</td>\n",
       "      <td>3.0</td>\n",
       "      <td>602.0</td>\n",
       "      <td>0.0</td>\n",
       "      <td>0.0</td>\n",
       "      <td>0.0</td>\n",
       "      <td>324.0</td>\n",
       "      <td>0.0</td>\n",
       "      <td>...</td>\n",
       "      <td>0.0</td>\n",
       "      <td>0.0</td>\n",
       "      <td>0.0</td>\n",
       "      <td>0.0</td>\n",
       "      <td>0.0</td>\n",
       "      <td>1.0</td>\n",
       "      <td>0.0</td>\n",
       "      <td>1.0</td>\n",
       "      <td>1.0</td>\n",
       "      <td>0.0</td>\n",
       "    </tr>\n",
       "    <tr>\n",
       "      <th>4</th>\n",
       "      <td>1280.0</td>\n",
       "      <td>0.0</td>\n",
       "      <td>0.0</td>\n",
       "      <td>2.0</td>\n",
       "      <td>263.0</td>\n",
       "      <td>0.0</td>\n",
       "      <td>0.0</td>\n",
       "      <td>0.0</td>\n",
       "      <td>1017.0</td>\n",
       "      <td>0.0</td>\n",
       "      <td>...</td>\n",
       "      <td>0.0</td>\n",
       "      <td>0.0</td>\n",
       "      <td>0.0</td>\n",
       "      <td>0.0</td>\n",
       "      <td>0.0</td>\n",
       "      <td>1.0</td>\n",
       "      <td>0.0</td>\n",
       "      <td>1.0</td>\n",
       "      <td>1.0</td>\n",
       "      <td>0.0</td>\n",
       "    </tr>\n",
       "  </tbody>\n",
       "</table>\n",
       "<p>5 rows × 270 columns</p>\n",
       "</div>"
      ],
      "text/plain": [
       "   1stFlrSF  2ndFlrSF  3SsnPorch  BedroomAbvGr  BsmtFinSF1  BsmtFinSF2  \\\n",
       "0     896.0       0.0        0.0           2.0       468.0       144.0   \n",
       "1    1329.0       0.0        0.0           3.0       923.0         0.0   \n",
       "2     928.0     701.0        0.0           3.0       791.0         0.0   \n",
       "3     926.0     678.0        0.0           3.0       602.0         0.0   \n",
       "4    1280.0       0.0        0.0           2.0       263.0         0.0   \n",
       "\n",
       "   BsmtFullBath  BsmtHalfBath  BsmtUnfSF  EnclosedPorch        ...         \\\n",
       "0           0.0           0.0      270.0            0.0        ...          \n",
       "1           0.0           0.0      406.0            0.0        ...          \n",
       "2           0.0           0.0      137.0            0.0        ...          \n",
       "3           0.0           0.0      324.0            0.0        ...          \n",
       "4           0.0           0.0     1017.0            0.0        ...          \n",
       "\n",
       "   SaleType_ConLD  SaleType_ConLI  SaleType_ConLw  SaleType_New  SaleType_Oth  \\\n",
       "0             0.0             0.0             0.0           0.0           0.0   \n",
       "1             0.0             0.0             0.0           0.0           0.0   \n",
       "2             0.0             0.0             0.0           0.0           0.0   \n",
       "3             0.0             0.0             0.0           0.0           0.0   \n",
       "4             0.0             0.0             0.0           0.0           0.0   \n",
       "\n",
       "   SaleType_WD  Street_Grvl  Street_Pave  Utilities_AllPub  Utilities_NoSeWa  \n",
       "0          1.0          0.0          1.0               1.0               0.0  \n",
       "1          1.0          0.0          1.0               1.0               0.0  \n",
       "2          1.0          0.0          1.0               1.0               0.0  \n",
       "3          1.0          0.0          1.0               1.0               0.0  \n",
       "4          1.0          0.0          1.0               1.0               0.0  \n",
       "\n",
       "[5 rows x 270 columns]"
      ]
     },
     "execution_count": 7,
     "metadata": {},
     "output_type": "execute_result"
    }
   ],
   "source": [
    "df_data2 = pd.DataFrame(df_test)\n",
    "df_data2.head()"
   ]
  },
  {
   "cell_type": "code",
   "execution_count": 8,
   "metadata": {
    "collapsed": true
   },
   "outputs": [],
   "source": [
    "from sklearn.preprocessing import StandardScaler\n",
    "scaler = StandardScaler()\n",
    "scaler.fit(df_train)\n",
    "X_std = scaler.fit_transform(df_train)"
   ]
  },
  {
   "cell_type": "code",
   "execution_count": 9,
   "metadata": {
    "collapsed": true
   },
   "outputs": [],
   "source": [
    "from sklearn.preprocessing import StandardScaler\n",
    "scaler2 = StandardScaler()\n",
    "scaler2.fit(df_test)\n",
    "X_std2 = scaler2.fit_transform(df_test)"
   ]
  },
  {
   "cell_type": "code",
   "execution_count": 10,
   "metadata": {
    "collapsed": true
   },
   "outputs": [],
   "source": [
    "from sklearn.decomposition import PCA\n",
    "pca = PCA(n_components=270)\n",
    "X_pca = pca.fit_transform(X_std)"
   ]
  },
  {
   "cell_type": "code",
   "execution_count": 11,
   "metadata": {
    "collapsed": true
   },
   "outputs": [],
   "source": [
    "from sklearn.decomposition import PCA\n",
    "pca2 = PCA(n_components=270)\n",
    "X_pca2 = pca2.fit_transform(X_std2)"
   ]
  },
  {
   "cell_type": "code",
   "execution_count": 12,
   "metadata": {},
   "outputs": [
    {
     "data": {
      "text/plain": [
       "array([[  4.28385913e+00,   1.63681990e+00,  -2.26989034e+00, ...,\n",
       "         -9.99291812e-16,   3.25722214e-16,  -1.34185473e-16],\n",
       "       [ -1.80694854e-01,  -3.13389524e+00,  -6.29286513e-01, ...,\n",
       "          2.04152965e-16,  -2.65516449e-16,  -1.82461036e-17],\n",
       "       [  4.83440899e+00,   1.13387155e+00,  -1.65141689e+00, ...,\n",
       "         -5.32015266e-16,  -1.00501794e-16,   2.84449514e-16],\n",
       "       ..., \n",
       "       [  1.55209043e+00,  -3.19888164e+00,   1.27449798e+00, ...,\n",
       "          4.85747872e-16,  -4.15357298e-17,   3.49741664e-16],\n",
       "       [ -6.29161048e+00,   3.92997363e+00,   3.66795989e+00, ...,\n",
       "          7.19503066e-16,   3.43831481e-16,  -2.18862123e-16],\n",
       "       [ -4.85872467e+00,   1.80953659e+00,   9.66717509e-01, ...,\n",
       "         -4.39590467e-17,  -8.71083626e-17,  -1.16900465e-16]])"
      ]
     },
     "execution_count": 12,
     "metadata": {},
     "output_type": "execute_result"
    }
   ],
   "source": [
    "X_pca[:10]"
   ]
  },
  {
   "cell_type": "code",
   "execution_count": 13,
   "metadata": {},
   "outputs": [
    {
     "data": {
      "text/plain": [
       "array([[ -3.23563129e+00,  -3.11126575e+00,  -1.51369582e+00, ...,\n",
       "         -4.17944937e-16,  -6.02371102e-17,   8.86761390e-17],\n",
       "       [ -7.94053749e-01,  -4.39773926e+00,   1.36451022e+00, ...,\n",
       "         -8.92451840e-17,  -5.63164693e-17,   2.00347603e-17],\n",
       "       [  2.29298980e+00,   1.01748112e+00,  -2.40276116e+00, ...,\n",
       "         -2.09972779e-17,  -6.02708526e-17,  -2.78825739e-17],\n",
       "       ..., \n",
       "       [  1.69436900e+00,   2.20392838e+00,  -2.77275836e+00, ...,\n",
       "         -2.51874366e-16,  -8.51980265e-17,   6.26117149e-17],\n",
       "       [  1.56595247e+00,  -1.61707390e+00,  -1.53775308e+00, ...,\n",
       "         -5.87943465e-17,   2.46886015e-16,  -5.62732249e-17],\n",
       "       [ -2.44385037e+00,  -4.88969504e+00,  -1.74827426e+00, ...,\n",
       "          1.78313252e-16,  -9.31018934e-17,   7.32244854e-17]])"
      ]
     },
     "execution_count": 13,
     "metadata": {},
     "output_type": "execute_result"
    }
   ],
   "source": [
    "X_pca2[:10]"
   ]
  },
  {
   "cell_type": "code",
   "execution_count": 14,
   "metadata": {},
   "outputs": [
    {
     "name": "stdout",
     "output_type": "stream",
     "text": [
      "[ 0.06835444  0.09823163  0.12314569  0.14285809  0.16066594  0.17739635\n",
      "  0.1924226   0.20515777  0.2176808   0.2295095   0.24102338  0.25198544\n",
      "  0.26262079  0.27305424  0.28322216  0.29321941  0.30293941  0.31225715\n",
      "  0.32141424  0.33037645  0.33925992  0.3478713   0.35638644  0.36465686\n",
      "  0.37278852  0.38086418  0.38888801  0.39678188  0.40457466  0.41234537\n",
      "  0.41999696  0.42752568  0.43480232  0.44202263  0.4491867   0.4561567\n",
      "  0.46307326  0.46989628  0.47661218  0.4832572   0.4898148   0.49630043\n",
      "  0.50267881  0.50891263  0.5151289   0.52130282  0.52735301  0.5333159\n",
      "  0.53917505  0.54498618  0.55072359  0.55634268  0.56194487  0.56746459\n",
      "  0.57293856  0.57834973  0.58375683  0.58905438  0.59428073  0.599471\n",
      "  0.60459376  0.60966846  0.61471883  0.61966956  0.62459401  0.62942749\n",
      "  0.63421749  0.63895914  0.64368148  0.64838612  0.65302373  0.65763962\n",
      "  0.66221667  0.66673258  0.67120731  0.67566283  0.6800671   0.68445302\n",
      "  0.68872495  0.69298962  0.69722516  0.70145227  0.70563376  0.70975242\n",
      "  0.71383333  0.71789849  0.7218963   0.72585684  0.72981011  0.73373149\n",
      "  0.73762372  0.74147969  0.74531408  0.74912609  0.75292063  0.75666521\n",
      "  0.76038792  0.7640508   0.76768692  0.771314    0.77492808  0.77844886\n",
      "  0.78194063  0.78541123  0.78883608  0.79224068  0.79562909  0.79897339\n",
      "  0.80229841  0.80559921  0.80885274  0.81205259  0.81521342  0.81835694\n",
      "  0.82147263  0.82455123  0.82760125  0.83063109  0.83359558  0.83654357\n",
      "  0.83948537  0.84239861  0.84529651  0.84816839  0.85099095  0.85379037\n",
      "  0.85654507  0.85929063  0.86199445  0.86468007  0.86733081  0.86996812\n",
      "  0.87257014  0.87514936  0.87770954  0.88022429  0.88271793  0.88518171\n",
      "  0.88764134  0.89005455  0.8924411   0.89480282  0.89712345  0.89943774\n",
      "  0.90172657  0.90398138  0.90621359  0.90842595  0.91061705  0.91274245\n",
      "  0.91484741  0.91693566  0.91901269  0.92107718  0.92308788  0.92507767\n",
      "  0.92703385  0.92897535  0.93090435  0.93278762  0.93462769  0.93645025\n",
      "  0.93823622  0.9400093   0.94175315  0.94347751  0.94516851  0.94683295\n",
      "  0.94847622  0.95009537  0.95170036  0.9532949   0.95486289  0.95639369\n",
      "  0.95791263  0.95940729  0.96086078  0.96229516  0.96372104  0.96511956\n",
      "  0.96650063  0.96787478  0.9691794   0.97044705  0.97169776  0.97293261\n",
      "  0.97412018  0.9752786   0.97640329  0.97752408  0.97861183  0.97968407\n",
      "  0.98071423  0.98172478  0.982694    0.98362862  0.98453051  0.98540085\n",
      "  0.98624852  0.98708576  0.98789186  0.98866213  0.98943008  0.99014895\n",
      "  0.99084301  0.9914628   0.99207382  0.99265812  0.99323162  0.99378735\n",
      "  0.9943261   0.9948576   0.99532686  0.99577658  0.99619848  0.99658664\n",
      "  0.99696978  0.99735112  0.99768215  0.99798914  0.99828931  0.99854662\n",
      "  0.99879532  0.99902639  0.99922796  0.99940366  0.99956018  0.99968321\n",
      "  0.99975817  0.99982445  0.99988941  0.99994291  0.99997528  0.99998941\n",
      "  0.9999964   1.          1.          1.          1.          1.          1.\n",
      "  1.          1.          1.          1.          1.          1.          1.\n",
      "  1.          1.          1.          1.          1.          1.          1.\n",
      "  1.          1.          1.          1.          1.          1.          1.\n",
      "  1.          1.          1.          1.          1.          1.          1.\n",
      "  1.        ]\n"
     ]
    }
   ],
   "source": [
    "print(np.cumsum(pca.explained_variance_ratio_))"
   ]
  },
  {
   "cell_type": "code",
   "execution_count": 15,
   "metadata": {
    "collapsed": true
   },
   "outputs": [],
   "source": [
    "ratio = np.cumsum(pca.explained_variance_ratio_)"
   ]
  },
  {
   "cell_type": "code",
   "execution_count": 16,
   "metadata": {},
   "outputs": [
    {
     "name": "stdout",
     "output_type": "stream",
     "text": [
      "108\n"
     ]
    }
   ],
   "source": [
    "count = 0\n",
    "for i in range(len(ratio)):\n",
    "    if ratio[i] < 0.8:\n",
    "        count += 1\n",
    "    else:\n",
    "        print(count)\n",
    "        break"
   ]
  },
  {
   "cell_type": "code",
   "execution_count": 17,
   "metadata": {
    "collapsed": true
   },
   "outputs": [],
   "source": [
    "X_pca = X_pca[:, :108]"
   ]
  },
  {
   "cell_type": "code",
   "execution_count": 18,
   "metadata": {
    "collapsed": true
   },
   "outputs": [],
   "source": [
    "ratio2 = np.cumsum(pca.explained_variance_ratio_)"
   ]
  },
  {
   "cell_type": "code",
   "execution_count": 19,
   "metadata": {},
   "outputs": [
    {
     "name": "stdout",
     "output_type": "stream",
     "text": [
      "[ 0.07341071  0.10546416  0.13120346  0.15225379  0.17074751  0.18903602\n",
      "  0.20517132  0.21872519  0.2312219   0.2430716   0.25479809  0.26624427\n",
      "  0.27746179  0.28806348  0.29863843  0.30884753  0.31890336  0.32888607\n",
      "  0.33855369  0.34784217  0.3570395   0.36617359  0.37518396  0.38406257\n",
      "  0.39256438  0.40080604  0.40894972  0.41698163  0.42485518  0.43252279\n",
      "  0.44015132  0.44750699  0.45476623  0.46197483  0.46904982  0.47595778\n",
      "  0.4828567   0.48965884  0.49633677  0.50298696  0.5094334   0.51581093\n",
      "  0.52217377  0.5283955   0.53458223  0.54070412  0.5467159   0.55263868\n",
      "  0.55851426  0.56433124  0.57010405  0.57580638  0.58145135  0.58699284\n",
      "  0.59250511  0.59797117  0.60342722  0.60879108  0.6141273   0.61938087\n",
      "  0.6245774   0.62971277  0.63482582  0.63991545  0.64494792  0.6498891\n",
      "  0.65478681  0.65964288  0.66446578  0.66922675  0.67390746  0.67851631\n",
      "  0.68310407  0.68766378  0.69220942  0.6967039   0.70111061  0.7054755\n",
      "  0.70979716  0.71407964  0.71834952  0.7225599   0.72674437  0.73090174\n",
      "  0.73499416  0.73904295  0.74306457  0.74704002  0.75097685  0.75489784\n",
      "  0.75877387  0.76261137  0.76640884  0.77016337  0.77389665  0.77760644\n",
      "  0.78126997  0.78489009  0.78848408  0.79203994  0.79556859  0.7990253\n",
      "  0.80247611  0.8058968   0.80929529  0.81267847  0.81602863  0.81933165\n",
      "  0.82260439  0.82583829  0.829069    0.83224084  0.83539776  0.83851983\n",
      "  0.84163286  0.84471413  0.84778597  0.8507861   0.85376154  0.85670788\n",
      "  0.85965144  0.86255742  0.86543493  0.86828124  0.87112217  0.87390906\n",
      "  0.87667625  0.87943298  0.88215997  0.88484164  0.88747993  0.89008831\n",
      "  0.89268366  0.89524993  0.89777564  0.90026735  0.9027404   0.90515196\n",
      "  0.90755259  0.909894    0.91220314  0.91450818  0.91677599  0.91900979\n",
      "  0.92122571  0.92340382  0.92553741  0.92764991  0.92975149  0.93180493\n",
      "  0.93382373  0.93582014  0.93779558  0.93973289  0.94165504  0.94352368\n",
      "  0.94538015  0.94722888  0.94904365  0.95082993  0.95260251  0.95431988\n",
      "  0.95599374  0.95765149  0.95928958  0.96089558  0.96248914  0.96405199\n",
      "  0.96559531  0.96712092  0.96858187  0.9700229   0.971435    0.97279955\n",
      "  0.97415278  0.97547775  0.9767326   0.97793745  0.97912481  0.98023071\n",
      "  0.98130834  0.98235615  0.98339146  0.98441365  0.98538828  0.98635657\n",
      "  0.98727773  0.98815412  0.98899034  0.98977713  0.99055503  0.9913075\n",
      "  0.99205165  0.99274695  0.99342409  0.9940747   0.99466192  0.99522493\n",
      "  0.99575758  0.99621624  0.99664442  0.99706216  0.99742123  0.99776993\n",
      "  0.99810485  0.99838884  0.99864499  0.99888841  0.99910617  0.99932005\n",
      "  0.9994965   0.99960791  0.99970514  0.99977954  0.99984518  0.99990144\n",
      "  0.999924    0.99994434  0.99995975  0.99996881  0.99997646  0.99998295\n",
      "  0.99998899  0.99999374  0.9999971   1.          1.          1.          1.\n",
      "  1.          1.          1.          1.          1.          1.          1.\n",
      "  1.          1.          1.          1.          1.          1.          1.\n",
      "  1.          1.          1.          1.          1.          1.          1.\n",
      "  1.          1.          1.          1.          1.          1.          1.\n",
      "  1.          1.          1.          1.          1.          1.          1.\n",
      "  1.          1.          1.          1.          1.          1.        ]\n"
     ]
    }
   ],
   "source": [
    "print(np.cumsum(pca2.explained_variance_ratio_))"
   ]
  },
  {
   "cell_type": "code",
   "execution_count": 20,
   "metadata": {
    "collapsed": true
   },
   "outputs": [],
   "source": [
    "ratio2 = np.cumsum(pca.explained_variance_ratio_)"
   ]
  },
  {
   "cell_type": "code",
   "execution_count": 21,
   "metadata": {},
   "outputs": [
    {
     "name": "stdout",
     "output_type": "stream",
     "text": [
      "108\n"
     ]
    }
   ],
   "source": [
    "count = 0\n",
    "for i in range(len(ratio)):\n",
    "    if ratio2[i] < 0.8:\n",
    "        count += 1\n",
    "    else:\n",
    "        print(count)\n",
    "        break"
   ]
  },
  {
   "cell_type": "code",
   "execution_count": 22,
   "metadata": {
    "collapsed": true
   },
   "outputs": [],
   "source": [
    "X_pca2 = X_pca2[:, :108]"
   ]
  },
  {
   "cell_type": "code",
   "execution_count": 23,
   "metadata": {
    "collapsed": true
   },
   "outputs": [],
   "source": [
    "y = df_train.loc[:, ['SalePrice']].values"
   ]
  },
  {
   "cell_type": "code",
   "execution_count": null,
   "metadata": {
    "collapsed": true
   },
   "outputs": [],
   "source": []
  },
  {
   "cell_type": "code",
   "execution_count": 24,
   "metadata": {
    "collapsed": true
   },
   "outputs": [],
   "source": [
    "from sklearn.linear_model import LinearRegression\n",
    "lr = LinearRegression()"
   ]
  },
  {
   "cell_type": "code",
   "execution_count": 25,
   "metadata": {
    "collapsed": true
   },
   "outputs": [],
   "source": [
    "from sklearn.model_selection import train_test_split\n",
    "X_pca_train, X_pca_test, y_train, y_test = train_test_split(X_pca, y, test_size = 0.3, random_state = 0)"
   ]
  },
  {
   "cell_type": "code",
   "execution_count": 26,
   "metadata": {
    "scrolled": true
   },
   "outputs": [
    {
     "data": {
      "text/plain": [
       "LinearRegression(copy_X=True, fit_intercept=True, n_jobs=1, normalize=False)"
      ]
     },
     "execution_count": 26,
     "metadata": {},
     "output_type": "execute_result"
    }
   ],
   "source": [
    "lr.fit(X_pca_train, y_train)"
   ]
  },
  {
   "cell_type": "code",
   "execution_count": 27,
   "metadata": {},
   "outputs": [
    {
     "data": {
      "text/plain": [
       "array([ 180902.07104763])"
      ]
     },
     "execution_count": 27,
     "metadata": {},
     "output_type": "execute_result"
    }
   ],
   "source": [
    "lr.intercept_"
   ]
  },
  {
   "cell_type": "code",
   "execution_count": 28,
   "metadata": {
    "scrolled": true
   },
   "outputs": [
    {
     "data": {
      "text/plain": [
       "array([[  1.51604329e+04,  -8.62652496e+02,   1.33319514e+04,\n",
       "         -2.29167906e+03,  -2.80046135e+03,   4.33598978e+03,\n",
       "         -3.50148711e+03,  -4.20076579e+03,  -2.85921585e+03,\n",
       "         -1.21601843e+03,  -2.06811778e+03,  -1.05953117e+02,\n",
       "          4.24598620e+02,   1.29003849e+02,   1.59219477e+03,\n",
       "         -1.67171812e+03,   2.02190874e+03,   2.89440431e+03,\n",
       "          2.55433000e+01,  -5.92938653e+02,  -6.14952408e+02,\n",
       "          2.07110026e+03,  -7.68495692e+02,  -5.08922846e+02,\n",
       "          1.11872124e+03,  -1.13371572e+03,   2.35105657e+03,\n",
       "         -2.27424482e+03,  -3.33030488e+03,   2.24434970e+02,\n",
       "          2.23865123e+03,   4.88412256e+02,  -1.66663913e+03,\n",
       "         -2.40586004e+03,   2.19045212e+03,  -3.17750500e+01,\n",
       "          9.05155392e+02,  -2.10066511e+03,   1.64134635e+03,\n",
       "          3.34101045e+03,   7.99052126e+02,   1.45492370e+01,\n",
       "          2.02399108e+03,  -2.12709752e+02,   7.57663739e+02,\n",
       "         -4.16121998e+02,  -2.20160986e+02,   1.06328450e+03,\n",
       "         -4.10584235e+02,  -3.49089394e+03,   2.15580748e+03,\n",
       "          2.10515189e+03,  -4.40720124e+03,  -7.18055372e+02,\n",
       "          9.96286317e+02,  -6.85358179e+02,   3.42685658e+02,\n",
       "          1.04417127e+03,  -1.34952571e+03,  -3.74020562e+03,\n",
       "          1.31875914e+03,   1.22233971e+02,  -3.34810516e+03,\n",
       "         -1.63359055e+03,  -1.06865419e+03,  -9.82583436e+02,\n",
       "         -2.56216401e+03,   3.07461023e+03,   3.83138614e+02,\n",
       "         -2.31752587e+02,  -1.79620021e+03,  -4.30472159e+02,\n",
       "         -2.29987516e+03,  -1.97018259e+03,   8.35616209e+02,\n",
       "          3.75715459e+03,  -1.23964556e+03,  -8.37677301e+02,\n",
       "         -2.06887511e+02,  -4.37262296e+03,   1.24599324e+02,\n",
       "          2.11130998e+03,   2.93872463e+03,  -3.64121143e+02,\n",
       "         -1.31980925e+03,  -1.43510466e+03,   1.89705176e+03,\n",
       "         -3.11973524e+03,  -3.90889532e+03,   4.26691384e+03,\n",
       "          2.56174963e+03,   4.86306032e+02,  -4.26219099e+02,\n",
       "          3.27342913e+02,   3.54016174e+02,   1.77912900e+03,\n",
       "         -4.39759972e+03,   2.03215087e+03,  -1.52945004e+03,\n",
       "          2.34993159e+03,   7.87793429e+02,   4.81028447e+01,\n",
       "         -1.46062793e+03,  -2.67168993e+03,  -1.43688258e+03,\n",
       "          2.55642767e+03,  -6.97812537e+02,   2.08704657e+03]])"
      ]
     },
     "execution_count": 28,
     "metadata": {},
     "output_type": "execute_result"
    }
   ],
   "source": [
    "lr.coef_"
   ]
  },
  {
   "cell_type": "code",
   "execution_count": 34,
   "metadata": {},
   "outputs": [
    {
     "data": {
      "text/plain": [
       "ElasticNet(alpha=10, copy_X=True, fit_intercept=True, l1_ratio=0.9,\n",
       "      max_iter=1000, normalize=False, positive=False, precompute=False,\n",
       "      random_state=None, selection='cyclic', tol=0.0001, warm_start=False)"
      ]
     },
     "execution_count": 34,
     "metadata": {},
     "output_type": "execute_result"
    }
   ],
   "source": [
    "from sklearn.linear_model import ElasticNet\n",
    "model_en= ElasticNet(alpha=10, l1_ratio=0.9)\n",
    "model_en.fit(X_pca_train, y_train)    "
   ]
  },
  {
   "cell_type": "code",
   "execution_count": 35,
   "metadata": {},
   "outputs": [
    {
     "name": "stdout",
     "output_type": "stream",
     "text": [
      "R^2\n",
      "train: 0.910\n",
      "test : 0.808\n"
     ]
    }
   ],
   "source": [
    "print('R^2')\n",
    "print('train: %.3f' % model_en.score(X_pca_train, y_train))\n",
    "print('test : %.3f' % model_en.score(X_pca_test, y_test))"
   ]
  },
  {
   "cell_type": "code",
   "execution_count": 36,
   "metadata": {
    "collapsed": true
   },
   "outputs": [],
   "source": [
    "y_pred = model_en.predict(X_pca2)"
   ]
  },
  {
   "cell_type": "code",
   "execution_count": 37,
   "metadata": {},
   "outputs": [
    {
     "data": {
      "text/html": [
       "<div>\n",
       "<style>\n",
       "    .dataframe thead tr:only-child th {\n",
       "        text-align: right;\n",
       "    }\n",
       "\n",
       "    .dataframe thead th {\n",
       "        text-align: left;\n",
       "    }\n",
       "\n",
       "    .dataframe tbody tr th {\n",
       "        vertical-align: top;\n",
       "    }\n",
       "</style>\n",
       "<table border=\"1\" class=\"dataframe\">\n",
       "  <thead>\n",
       "    <tr style=\"text-align: right;\">\n",
       "      <th></th>\n",
       "      <th>Id</th>\n",
       "      <th>SalePrice</th>\n",
       "    </tr>\n",
       "  </thead>\n",
       "  <tbody>\n",
       "    <tr>\n",
       "      <th>0</th>\n",
       "      <td>1461</td>\n",
       "      <td>126961.872761</td>\n",
       "    </tr>\n",
       "    <tr>\n",
       "      <th>1</th>\n",
       "      <td>1462</td>\n",
       "      <td>174012.627544</td>\n",
       "    </tr>\n",
       "    <tr>\n",
       "      <th>2</th>\n",
       "      <td>1463</td>\n",
       "      <td>192986.171539</td>\n",
       "    </tr>\n",
       "    <tr>\n",
       "      <th>3</th>\n",
       "      <td>1464</td>\n",
       "      <td>212764.958923</td>\n",
       "    </tr>\n",
       "    <tr>\n",
       "      <th>4</th>\n",
       "      <td>1465</td>\n",
       "      <td>198013.456754</td>\n",
       "    </tr>\n",
       "  </tbody>\n",
       "</table>\n",
       "</div>"
      ],
      "text/plain": [
       "     Id      SalePrice\n",
       "0  1461  126961.872761\n",
       "1  1462  174012.627544\n",
       "2  1463  192986.171539\n",
       "3  1464  212764.958923\n",
       "4  1465  198013.456754"
      ]
     },
     "execution_count": 37,
     "metadata": {},
     "output_type": "execute_result"
    }
   ],
   "source": [
    "kaggle_df_test = pd.DataFrame({\"Id\":np.arange(1461, 2920), \"SalePrice\":y_pred})\n",
    "kaggle_df_test.head()"
   ]
  },
  {
   "cell_type": "code",
   "execution_count": 38,
   "metadata": {
    "collapsed": true
   },
   "outputs": [],
   "source": [
    "kaggle_df_test.to_csv(\"housepriceBA.csv\", index=False)"
   ]
  },
  {
   "cell_type": "code",
   "execution_count": null,
   "metadata": {
    "collapsed": true
   },
   "outputs": [],
   "source": []
  },
  {
   "cell_type": "code",
   "execution_count": 157,
   "metadata": {},
   "outputs": [
    {
     "data": {
      "text/plain": [
       "Lasso(alpha=2200, copy_X=True, fit_intercept=True, max_iter=1000,\n",
       "   normalize=False, positive=False, precompute=False, random_state=None,\n",
       "   selection='cyclic', tol=0.0001, warm_start=False)"
      ]
     },
     "execution_count": 157,
     "metadata": {},
     "output_type": "execute_result"
    }
   ],
   "source": [
    "from sklearn.linear_model import Lasso\n",
    "model_lasso = Lasso(alpha=2200)\n",
    "model_lasso.fit(X_pca_train, y_train)"
   ]
  },
  {
   "cell_type": "code",
   "execution_count": 158,
   "metadata": {
    "scrolled": false
   },
   "outputs": [
    {
     "name": "stdout",
     "output_type": "stream",
     "text": [
      "R^2\n",
      "train: 0.894\n",
      "test : 0.784\n"
     ]
    }
   ],
   "source": [
    "print('R^2')\n",
    "print('train: %.3f' % model_lasso.score(X_pca_train, y_train))\n",
    "print('test : %.3f' % model_lasso.score(X_pca_test, y_test))"
   ]
  },
  {
   "cell_type": "code",
   "execution_count": null,
   "metadata": {
    "collapsed": true
   },
   "outputs": [],
   "source": [
    "#以下未使用\n",
    "#didn't use below"
   ]
  },
  {
   "cell_type": "code",
   "execution_count": 159,
   "metadata": {
    "scrolled": true
   },
   "outputs": [
    {
     "data": {
      "text/plain": [
       "array([  1.48379214e+04,  -4.48195377e+02,   1.26251190e+04,\n",
       "        -1.73555204e+03,  -2.52605683e+03,   3.70771468e+03,\n",
       "        -2.95758328e+03,  -3.46977061e+03,  -2.35402945e+03,\n",
       "        -4.42993334e+02,  -8.91246279e+02,   0.00000000e+00,\n",
       "         0.00000000e+00,  -0.00000000e+00,   3.07610165e+02,\n",
       "        -2.78498427e+02,   4.91811083e+02,   7.63848179e+02,\n",
       "        -0.00000000e+00,   0.00000000e+00,  -1.00836066e+01,\n",
       "         6.85654472e+02,  -1.13813733e+02,  -2.08628096e+02,\n",
       "         4.68896373e+02,  -0.00000000e+00,   7.16717494e+02,\n",
       "        -1.17451401e+03,  -2.10574702e+03,   0.00000000e+00,\n",
       "         1.48086103e+02,   5.53220528e+02,  -0.00000000e+00,\n",
       "        -1.30042822e+03,   5.40926871e+02,  -0.00000000e+00,\n",
       "         0.00000000e+00,  -1.38670041e+02,   5.95028937e+01,\n",
       "         1.26980240e+03,   0.00000000e+00,   0.00000000e+00,\n",
       "         5.30534375e+02,  -0.00000000e+00,   0.00000000e+00,\n",
       "        -0.00000000e+00,   0.00000000e+00,   0.00000000e+00,\n",
       "        -0.00000000e+00,  -2.45412162e+03,   2.52479790e+02,\n",
       "         8.53353958e+00,  -1.43356240e+03,  -0.00000000e+00,\n",
       "         0.00000000e+00,  -1.04305647e+02,  -0.00000000e+00,\n",
       "         0.00000000e+00,  -0.00000000e+00,  -1.28420120e+03,\n",
       "        -0.00000000e+00,   0.00000000e+00,  -2.25878003e+02,\n",
       "        -0.00000000e+00,  -0.00000000e+00,  -0.00000000e+00,\n",
       "        -1.06531060e+03,   2.05564091e+02,   0.00000000e+00,\n",
       "        -0.00000000e+00,  -8.68029511e+02,  -0.00000000e+00,\n",
       "        -8.17058605e+02,  -0.00000000e+00,   0.00000000e+00,\n",
       "         9.92524043e+02,  -0.00000000e+00,  -0.00000000e+00,\n",
       "        -0.00000000e+00,  -1.15668655e+03,   0.00000000e+00,\n",
       "         0.00000000e+00,   0.00000000e+00,  -0.00000000e+00,\n",
       "        -0.00000000e+00,  -0.00000000e+00,   0.00000000e+00,\n",
       "        -4.88457300e+02,  -7.29241821e+02,   1.76357092e+03,\n",
       "         1.46543121e+02,  -0.00000000e+00,  -0.00000000e+00,\n",
       "         0.00000000e+00,   0.00000000e+00,   0.00000000e+00,\n",
       "        -2.43469133e+03,   3.23753625e+02,  -0.00000000e+00,\n",
       "         0.00000000e+00,   0.00000000e+00,  -0.00000000e+00,\n",
       "        -2.69543221e+02,  -1.79063010e+02,  -0.00000000e+00,\n",
       "         0.00000000e+00,  -0.00000000e+00,   5.69823198e+01])"
      ]
     },
     "execution_count": 159,
     "metadata": {},
     "output_type": "execute_result"
    }
   ],
   "source": [
    "model_lasso.coef_"
   ]
  },
  {
   "cell_type": "code",
   "execution_count": 160,
   "metadata": {},
   "outputs": [
    {
     "data": {
      "text/plain": [
       "(1459, 108)"
      ]
     },
     "execution_count": 160,
     "metadata": {},
     "output_type": "execute_result"
    }
   ],
   "source": [
    "X_pca2.shape"
   ]
  },
  {
   "cell_type": "code",
   "execution_count": 161,
   "metadata": {
    "collapsed": true
   },
   "outputs": [],
   "source": [
    "y_pred = model_lasso.predict(X_pca2)"
   ]
  },
  {
   "cell_type": "code",
   "execution_count": 162,
   "metadata": {},
   "outputs": [
    {
     "data": {
      "text/plain": [
       "array([ 118314.67839231,  176626.52779715,  188547.53203471,\n",
       "        209150.93077792,  200108.98104858,  175624.65612058,\n",
       "        188475.35427338,  174097.41896531,  199351.89360629,\n",
       "        129696.02408601])"
      ]
     },
     "execution_count": 162,
     "metadata": {},
     "output_type": "execute_result"
    }
   ],
   "source": [
    "y_pred[:10]"
   ]
  },
  {
   "cell_type": "code",
   "execution_count": 163,
   "metadata": {},
   "outputs": [
    {
     "data": {
      "text/plain": [
       "(1459,)"
      ]
     },
     "execution_count": 163,
     "metadata": {},
     "output_type": "execute_result"
    }
   ],
   "source": [
    "y_pred.shape"
   ]
  },
  {
   "cell_type": "code",
   "execution_count": 164,
   "metadata": {},
   "outputs": [
    {
     "data": {
      "text/plain": [
       "array([ 118314.67839231,  176626.52779715,  188547.53203471, ...,\n",
       "        188234.60862799,  133718.21189906,  201600.90867661])"
      ]
     },
     "execution_count": 164,
     "metadata": {},
     "output_type": "execute_result"
    }
   ],
   "source": [
    "y_pred"
   ]
  },
  {
   "cell_type": "code",
   "execution_count": 165,
   "metadata": {
    "scrolled": true
   },
   "outputs": [
    {
     "data": {
      "text/html": [
       "<div>\n",
       "<style>\n",
       "    .dataframe thead tr:only-child th {\n",
       "        text-align: right;\n",
       "    }\n",
       "\n",
       "    .dataframe thead th {\n",
       "        text-align: left;\n",
       "    }\n",
       "\n",
       "    .dataframe tbody tr th {\n",
       "        vertical-align: top;\n",
       "    }\n",
       "</style>\n",
       "<table border=\"1\" class=\"dataframe\">\n",
       "  <thead>\n",
       "    <tr style=\"text-align: right;\">\n",
       "      <th></th>\n",
       "      <th>Id</th>\n",
       "      <th>SalePrice</th>\n",
       "    </tr>\n",
       "  </thead>\n",
       "  <tbody>\n",
       "    <tr>\n",
       "      <th>0</th>\n",
       "      <td>1461</td>\n",
       "      <td>118314.678392</td>\n",
       "    </tr>\n",
       "    <tr>\n",
       "      <th>1</th>\n",
       "      <td>1462</td>\n",
       "      <td>176626.527797</td>\n",
       "    </tr>\n",
       "    <tr>\n",
       "      <th>2</th>\n",
       "      <td>1463</td>\n",
       "      <td>188547.532035</td>\n",
       "    </tr>\n",
       "    <tr>\n",
       "      <th>3</th>\n",
       "      <td>1464</td>\n",
       "      <td>209150.930778</td>\n",
       "    </tr>\n",
       "    <tr>\n",
       "      <th>4</th>\n",
       "      <td>1465</td>\n",
       "      <td>200108.981049</td>\n",
       "    </tr>\n",
       "  </tbody>\n",
       "</table>\n",
       "</div>"
      ],
      "text/plain": [
       "     Id      SalePrice\n",
       "0  1461  118314.678392\n",
       "1  1462  176626.527797\n",
       "2  1463  188547.532035\n",
       "3  1464  209150.930778\n",
       "4  1465  200108.981049"
      ]
     },
     "execution_count": 165,
     "metadata": {},
     "output_type": "execute_result"
    }
   ],
   "source": [
    "kaggle_df_test = pd.DataFrame({\"Id\":np.arange(1461, 2920), \"SalePrice\":y_pred})\n",
    "kaggle_df_test.head()"
   ]
  },
  {
   "cell_type": "code",
   "execution_count": 166,
   "metadata": {
    "collapsed": true
   },
   "outputs": [],
   "source": [
    "kaggle_df_test.to_csv(\"housepriceAE.csv\", index=False)"
   ]
  }
 ],
 "metadata": {
  "kernelspec": {
   "display_name": "Python 3",
   "language": "python",
   "name": "python3"
  },
  "language_info": {
   "codemirror_mode": {
    "name": "ipython",
    "version": 3
   },
   "file_extension": ".py",
   "mimetype": "text/x-python",
   "name": "python",
   "nbconvert_exporter": "python",
   "pygments_lexer": "ipython3",
   "version": "3.6.2"
  }
 },
 "nbformat": 4,
 "nbformat_minor": 2
}
